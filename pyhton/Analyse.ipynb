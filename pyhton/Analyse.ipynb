{
 "cells": [
  {
   "cell_type": "code",
   "execution_count": null,
   "id": "aacee439",
   "metadata": {},
   "outputs": [],
   "source": [
    "#Synchronisation du fichier .ipnyb avec le fichier .py\n",
    "# ---\n",
    "# jupyter:\n",
    "#   jupytext:\n",
    "#     formats: py:percent,ipynb\n",
    "# ---"
   ]
  },
  {
   "cell_type": "code",
   "execution_count": null,
   "id": "7d9f31c4",
   "metadata": {},
   "outputs": [],
   "source": [
    "#Importation des bibliothèques\n",
    "import pandas as pd\n",
    "import numpy as np\n",
    "import matplotlib.pyplot as plt\n",
    "import seaborn as sns"
   ]
  },
  {
   "cell_type": "code",
   "execution_count": null,
   "id": "ec5780ed",
   "metadata": {},
   "outputs": [],
   "source": [
    "#CHARGEMENT DES DONNEES"
   ]
  },
  {
   "cell_type": "code",
   "execution_count": null,
   "id": "56c2f92d",
   "metadata": {},
   "outputs": [],
   "source": [
    "#Chargement des datas\n",
    "df = pd.read_excel(r\"C:\\Users\\Jppok\\venv\\test_pandas\\Projet DA_Portfolio\\data\\CorporateCreditRating.xlsx\")\n",
    "\n",
    "#Afficher les 1ères lignes\n",
    "print(df.head())\n",
    "\n",
    "#Vérifier la structure des données\n",
    "print(df.info())"
   ]
  },
  {
   "cell_type": "code",
   "execution_count": null,
   "id": "1d88d9a8",
   "metadata": {
    "lines_to_next_cell": 2
   },
   "outputs": [],
   "source": [
    "#Chargement de la table détail des secteurs \n",
    "df_Sector = pd.read_excel(r\"C:\\Users\\Jppok\\venv\\test_pandas\\Projet DA_Portfolio\\data\\Sector_Table.xlsx\")\n",
    "\n",
    "#Afficher les 1ères lignes\n",
    "print(df_Sector.head())\n",
    "\n",
    "#Vérifier la structure des données\n",
    "print(df_Sector.info())"
   ]
  },
  {
   "cell_type": "code",
   "execution_count": null,
   "id": "a430a6ec",
   "metadata": {
    "lines_to_next_cell": 0
   },
   "outputs": [],
   "source": [
    "#PREPARATION DES DONNEES"
   ]
  },
  {
   "cell_type": "code",
   "execution_count": null,
   "id": "7a58a34c",
   "metadata": {},
   "outputs": [],
   "source": [
    "#Valeurs manquantes et doublons\n",
    "    #valeurs manquantes\n",
    "print(df_Sector.isnull().sum())\n",
    "    #doublons\n",
    "doublons = df_Sector.duplicated().sum()\n",
    "print(\"Nombre de doublons:\", doublons)"
   ]
  },
  {
   "cell_type": "code",
   "execution_count": null,
   "id": "7825202e",
   "metadata": {
    "lines_to_next_cell": 0
   },
   "outputs": [],
   "source": [
    "#Ajout de la table détail des secteurs à df\n",
    "df = pd.merge(df, df_Sector, on=\"SIC Code\", how=\"left\")\n",
    "\n",
    "df.head()"
   ]
  },
  {
   "cell_type": "code",
   "execution_count": null,
   "id": "c58efbb1",
   "metadata": {
    "lines_to_next_cell": 0
   },
   "outputs": [],
   "source": [
    "#Valeurs manquantes\n",
    "print(df.isnull().sum())"
   ]
  },
  {
   "cell_type": "code",
   "execution_count": null,
   "id": "4cfc371e",
   "metadata": {},
   "outputs": [],
   "source": [
    "#Suppression des lignes où SubSector est vide\n",
    "df = df.dropna(subset=[\"SubSector\"])\n",
    "print(df.isnull().sum())"
   ]
  },
  {
   "cell_type": "code",
   "execution_count": null,
   "id": "c04ccd92",
   "metadata": {},
   "outputs": [],
   "source": [
    "#doublons\n",
    "doublons = df.duplicated().sum()\n",
    "print(\"Nombre de doublons:\", doublons)"
   ]
  },
  {
   "cell_type": "code",
   "execution_count": null,
   "id": "37135c44",
   "metadata": {
    "lines_to_next_cell": 0
   },
   "outputs": [],
   "source": [
    "#Renommage de \"Binary Rating\" = Investment Grade \n",
    "df.rename(columns={'Binary Rating': 'Investment Grade'}, inplace=True)\n",
    "\n",
    "df.columns"
   ]
  },
  {
   "cell_type": "code",
   "execution_count": null,
   "id": "a59e15b2",
   "metadata": {},
   "outputs": [],
   "source": [
    "#Type de données \n",
    "print(df.dtypes)"
   ]
  },
  {
   "cell_type": "code",
   "execution_count": null,
   "id": "e70311cc",
   "metadata": {},
   "outputs": [],
   "source": [
    "#Liste des secteurs uniques\n",
    "df[\"Sector\"].unique()"
   ]
  },
  {
   "cell_type": "code",
   "execution_count": null,
   "id": "1b4d3fb5",
   "metadata": {},
   "outputs": [],
   "source": [
    "#Renommer les secteurs\n",
    "sector_names = {\n",
    "    \"BusEq\": \"Business Equipment\",\n",
    "    \"Chems\": \"Chemicals\",\n",
    "    \"Durbl\": \"Durables\",\n",
    "    \"Enrgy\": \"Energy\",\n",
    "    \"Hlth\": \"Health\",\n",
    "    \"Manuf\": \"Manufacturing\",\n",
    "    \"Money\": \"Money\",\n",
    "    \"NoDur\": \"Non-Durables\",\n",
    "    \"Other\": \"Other\",\n",
    "    \"Shops\": \"Shops\",\n",
    "    \"Telcm\": \"Telecommunications\",\n",
    "    \"Utils\": \"Utilities\"}\n",
    "\n",
    "df[\"Sector\"] = df[\"Sector\"].replace(sector_names)\n",
    "\n",
    "#Vérification des changements\n",
    "df[\"Sector\"].unique()"
   ]
  },
  {
   "cell_type": "code",
   "execution_count": null,
   "id": "5bf56192",
   "metadata": {
    "lines_to_next_cell": 0
   },
   "outputs": [],
   "source": [
    "#ANALYSE EXPLORATOIRE DES DONNEES"
   ]
  },
  {
   "cell_type": "code",
   "execution_count": null,
   "id": "c2698839",
   "metadata": {},
   "outputs": [],
   "source": [
    "#Affichage de la répartition des notations de crédit\n",
    "df[\"Rating\"].value_counts().plot(kind=\"bar\", figsize=(8, 4))\n",
    "    #Ajouter des titres et labels\n",
    "plt.title(\"Répartition des notations de crédit\")\n",
    "plt.xlabel(\"Notation\")\n",
    "plt.ylabel(\"Nombre d'entreprises\")\n",
    "    #Afficher le graphique\n",
    "plt.show()\n",
    "\n",
    "#Distribution des notations de crédit\n",
    "df[\"Rating\"].hist(figsize=(12, 8), bins=30)\n",
    "\n",
    "plt.title(\"Distribution des notations de crédit\")\n",
    "plt.xlabel(\"Notation\")\n",
    "plt.ylabel(\"Nombre d'entreprises\")\n",
    "plt.show()"
   ]
  },
  {
   "cell_type": "code",
   "execution_count": null,
   "id": "e07d8f5f",
   "metadata": {
    "lines_to_next_cell": 0
   },
   "outputs": [],
   "source": [
    "#Analyse des ratios financiers "
   ]
  },
  {
   "cell_type": "code",
   "execution_count": null,
   "id": "fee8963c",
   "metadata": {},
   "outputs": [],
   "source": [
    "#Sélection des ratios \n",
    "ratios = [\"Current Ratio\", \"Debt/Equity Ratio\", \"ROE - Return On Equity\"]\n",
    "\n",
    "#histogrammes\n",
    "plt.figure(figsize=(15, 5))\n",
    "for i, ratio in enumerate(ratios, 1):\n",
    "    plt.subplot(1, 3, i)\n",
    "    sns.histplot(df[ratio], bins=30, kde=True)\n",
    "    plt.title(f\"Distribution de {ratio}\")\n",
    "    plt.xlabel(ratio)\n",
    "    plt.ylabel(\"Fréquence\")\n",
    "plt.tight_layout()\n",
    "plt.show()\n",
    "\n",
    "#Statistique descriptive\n",
    "df[ratios].describe()"
   ]
  },
  {
   "cell_type": "code",
   "execution_count": null,
   "id": "08a79642",
   "metadata": {},
   "outputs": [],
   "source": [
    "#Analyse écart interquartile\n",
    "total_rows = df.shape[0]  \n",
    "\n",
    "for i, ratio in enumerate(ratios, 1):\n",
    "    Q1 = df[ratio].quantile(0.25) #1er quartile\n",
    "    Q3 = df[ratio].quantile(0.75) #2ème quartile\n",
    "    IQR = Q3 - Q1\n",
    "\n",
    "    #Filtrage des valeurs aberrantes\n",
    "    val_aberrantes = df[(df[ratio] < (Q1 - 1.5 * IQR)) | (df[ratio] > (Q3 + 1.5 * IQR))]\n",
    "    \n",
    "    print(f\"Ratio : {ratio}\")\n",
    "    print(f\" - Valeurs aberrantes : {val_aberrantes.shape[0]}\")\n",
    "    print(f\" - Pourcentage du total : {round((val_aberrantes.shape[0]/total_rows)*100, 2)} %\\n\")"
   ]
  },
  {
   "cell_type": "code",
   "execution_count": null,
   "id": "ed199a3f",
   "metadata": {
    "lines_to_next_cell": 2
   },
   "outputs": [],
   "source": [
    "#Dispersion avec boxplot\n",
    "plt.figure(figsize=(8, 6))\n",
    "    #Afficher plusieurs graphs (subplot)\n",
    "plt.subplot(3, 1, 1)\n",
    "plt.boxplot(df[\"Current Ratio\"], vert=False)\n",
    "plt.title(\"Boxplot de Current Ratio\")\n",
    "plt.subplot(3, 1, 2)\n",
    "plt.boxplot(df[\"Debt/Equity Ratio\"], vert=False)\n",
    "plt.title(\"Boxplot de Debt/Equity Ratio\")\n",
    "plt.subplot(3, 1, 3)\n",
    "plt.boxplot(df[\"Net Profit Margin\"], vert=False)\n",
    "plt.title(\"Boxplot de Net Profit Margin\")\n",
    "plt.figtext(0.5, -0.1, \n",
    "            \"Les points hors des moustaches du boxplot correspondent aux valeurs extrêmes détectées par la méthode IQR. \\n\"\n",
    "            \"Cette méthode permet d'identifier les potentielles valeurs aberrantes\", \n",
    "            wrap=True, horizontalalignment=\"center\", fontsize=10)\n",
    "plt.tight_layout() "
   ]
  },
  {
   "cell_type": "code",
   "execution_count": null,
   "id": "df809349",
   "metadata": {},
   "outputs": [],
   "source": [
    "#Etude des relations entre variables (corrélations, tendances).\n",
    "#Convertir la notation de crédit en score numérique \n",
    "rating_mapping = {\n",
    "    \"AAA\": 1, \"AA+\": 2, \"AA\": 3, \"AA-\": 4,\n",
    "    \"A+\": 5, \"A\": 6, \"A-\": 7,\n",
    "    \"BBB+\": 8, \"BBB\": 9, \"BBB-\": 10,\n",
    "    \"BB+\": 11, \"BB\": 12, \"BB-\": 13,\n",
    "    \"B+\": 14, \"B\": 15, \"B-\": 16,\n",
    "    \"CCC+\": 17, \"CCC\": 18, \"CCC-\": 19,\n",
    "    \"CC+\": 20, \"CC\": 21,\n",
    "    \"C\": 22, \"D\": 23}\n",
    "#Associe la notation au nouveau score numérique \n",
    "df[\"Rating_Score\"] = df[\"Rating\"].map(rating_mapping)"
   ]
  },
  {
   "cell_type": "code",
   "execution_count": null,
   "id": "88b59e0e",
   "metadata": {},
   "outputs": [],
   "source": [
    "#Analyse de la tendance globale et par secteur du Rating score\n",
    "#Tendance globale\n",
    "trend = df.groupby(df[\"Rating Date\"].dt.to_period(\"Y\"))[\"Rating_Score\"].mean()\n",
    "\n",
    "#Tendance par secteur\n",
    "sector_trends = df.groupby([df[\"Rating Date\"].dt.to_period(\"Y\"), \"Sector\"])[\"Rating_Score\"].mean().unstack()\n",
    "\n",
    "#Visualisation\n",
    "sector_trends.plot(figsize=(12, 8))\n",
    "trend.plot(kind=\"line\", figsize=(12, 8), marker=\"o\",color=\"black\", linewidth=3, label=\"Tendance globale\")\n",
    "plt.xlabel(\"Année\")\n",
    "plt.ylabel(\"Score moyen de notation\")\n",
    "plt.title(\"Tendances des scores de notation par secteur et tendance globale\")\n",
    "plt.legend(title=\"Légende\", bbox_to_anchor=(1.05, 1), loc=\"upper left\")\n",
    "plt.grid(True)\n",
    "plt.show()"
   ]
  },
  {
   "cell_type": "code",
   "execution_count": null,
   "id": "f3cad64b",
   "metadata": {
    "lines_to_next_cell": 2
   },
   "outputs": [],
   "source": [
    "#Analyse avec la matrice de corrélation\n",
    "df[[\"Rating_Score\", \"Current Ratio\", \"Debt/Equity Ratio\", \"Long-term Debt / Capital\", \n",
    "          \"ROE - Return On Equity\", \"Net Profit Margin\", \"EBITDA Margin\", \"ROI - Return On Investment\", \n",
    "          \"Return On Tangible Equity\", \"ROA - Return On Assets\"]].corr()"
   ]
  },
  {
   "cell_type": "code",
   "execution_count": null,
   "id": "34930a6e",
   "metadata": {},
   "outputs": [],
   "source": [
    "#Filtrage de df \n",
    "df = df[[\"Rating Agency\", \"Corporation\", \"Rating\", \"Rating Date\", \"Investment Grade\", \n",
    "         \"CIK\", \"SIC Code\", \"Sector\", \"SubSector\", \"Industry\", \"Ticker\",\n",
    "         \"Current Ratio\", \"Long-term Debt / Capital\", \"Debt/Equity Ratio\",\n",
    "         \"Net Profit Margin\", \"ROE - Return On Equity\",\n",
    "         \"Rating_Score\"]]\n",
    "\n",
    "df.columns"
   ]
  },
  {
   "cell_type": "code",
   "execution_count": null,
   "id": "c99f7187",
   "metadata": {
    "lines_to_next_cell": 0
   },
   "outputs": [],
   "source": [
    "#VISUALISATION "
   ]
  },
  {
   "cell_type": "code",
   "execution_count": null,
   "id": "ceff22d4",
   "metadata": {
    "lines_to_next_cell": 2
   },
   "outputs": [],
   "source": [
    "#Ratio de liquidité\n",
    "#Nuage de point  avec une courbe de tendance\n",
    "plt.figure(figsize=(10, 6))\n",
    "sns.regplot(x=df[\"Current Ratio\"], y=df[\"Rating_Score\"], \n",
    "            scatter_kws={'alpha': 0.5}, line_kws={\"color\": \"red\"})\n",
    "\n",
    "plt.title(\"Relation entre le Current Ratio et la Notation de Crédit\")\n",
    "plt.xlabel(\"Current Ratio\")\n",
    "plt.ylabel(\"Notation de Crédit (Score numérique)\")\n",
    "plt.grid(True)\n",
    "plt.figtext(0.5, -0.1, \n",
    "            \"Pour l'axe de la Notation de crédit : \\n\"\n",
    "            \"Plus le score est élevé, \"\n",
    "            \"plus la notation est mauvaise (ex: AAA=1, CCC=18 ou plus) \\n\", \n",
    "            wrap=True, horizontalalignment=\"center\", fontsize=10)\n",
    "\n",
    "plt.show()"
   ]
  },
  {
   "cell_type": "code",
   "execution_count": null,
   "id": "77c082ba",
   "metadata": {},
   "outputs": [],
   "source": [
    "#Nombre d'entreprises par Rating_Score \n",
    "rating_counts = df[\"Rating_Score\"].value_counts()\n",
    "\n",
    "#Rating_count pour associer le nombre d'entreprise à la note de Rating score\n",
    "df[\"Rating_Count\"] = df[\"Rating_Score\"].map(rating_counts)\n",
    "\n",
    "# Définir la taille des points en fonction du nombre d’entreprises ayant la même note\n",
    "#Racine carrée (sqrt) pour atténuer l'effet de la distribution hétérogène de Rating_score \n",
    "point_sizes = np.sqrt(df[\"Rating_Count\"]) * 20  \n",
    "\n",
    "#Nuage de point \n",
    "plt.figure(figsize=(10, 6))\n",
    "plt.scatter(x=df[\"Current Ratio\"], y=df[\"Rating_Score\"], \n",
    "            s=point_sizes, c=df[\"Rating_Score\"], alpha=0.7, cmap=\"coolwarm\")\n",
    "\n",
    "plt.title(\"Relation entre Current Ratio et la Notation de Crédit\")\n",
    "plt.xlabel(\"Current Ratio\")\n",
    "plt.ylabel(\"Notation de Crédit (Score numérique)\")\n",
    "plt.colorbar(label=\"Score de Notation (Format numérique)\")\n",
    "plt.grid(True)\n",
    "plt.figtext(0.5, -0.05, \n",
    "            \"Pour l'axe de la Notation de crédit : \\n\"\n",
    "            \"Plus le score est élevé, \"\n",
    "            \"plus la notation est mauvaise (ex: AAA=1, CCC=18 ou plus) \\n\"\n",
    "            \"Plus une notation est fréquente, plus le point sera grand.\", \n",
    "            wrap=True, horizontalalignment=\"center\", fontsize=10)\n",
    "\n",
    "plt.show()"
   ]
  },
  {
   "cell_type": "code",
   "execution_count": null,
   "id": "f2f334f3",
   "metadata": {
    "lines_to_next_cell": 0
   },
   "outputs": [],
   "source": [
    "#Ratio d'endettement \n",
    "#Debt/Equity Ratio\n",
    "plt.figure(figsize=(10, 6))\n",
    "sns.regplot(x=df[\"Debt/Equity Ratio\"], y=df[\"Rating_Score\"], \n",
    "            scatter_kws={'alpha': 0.5}, line_kws={\"color\": \"red\"})\n",
    "\n",
    "plt.title(\"Relation entre Debt/Equity Ratio et la Notation de Crédit\")\n",
    "plt.xlabel(\"Debt/Equity Ratio\")\n",
    "plt.ylabel(\"Notation de Crédit (Score numérique)\")\n",
    "plt.grid(True)\n",
    "plt.figtext(0.5, -0.1, \n",
    "            \"Pour l'axe de la Notation de crédit : \\n\"\n",
    "            \"Plus le score est élevé, \"\n",
    "            \"plus la notation est mauvaise (ex: AAA=1, CCC=18 ou plus) \\n\", \n",
    "            wrap=True, horizontalalignment=\"center\", fontsize=10)\n",
    "\n",
    "plt.show()\n",
    "\n",
    "#Long-term Debt / Capital\n",
    "plt.figure(figsize=(10, 6))\n",
    "plt.scatter(x=df[\"Long-term Debt / Capital\"], y=df[\"Rating_Score\"], \n",
    "            s=point_sizes, c=df[\"Rating_Score\"], alpha=0.7, cmap=\"coolwarm\")\n",
    "\n",
    "plt.title(\"Relation entre Long-term Debt / Capital et la Notation de Crédit\")\n",
    "plt.xlabel(\"Long-term Debt / Capital\")\n",
    "plt.ylabel(\"Notation de Crédit (Score numérique)\")\n",
    "plt.colorbar(label=\"Score de Notation (Format numérique)\")\n",
    "plt.grid(True)\n",
    "plt.figtext(0.5, -0.05, \n",
    "            \"Pour l'axe de la Notation de crédit : \\n\"\n",
    "            \"Plus le score est élevé, \"\n",
    "            \"plus la notation est mauvaise (ex: AAA=1, CCC=18 ou plus) \\n\"\n",
    "            \"Plus une notation est fréquente, plus le point sera grand.\", \n",
    "            wrap=True, horizontalalignment=\"center\", fontsize=10)\n",
    "plt.show()"
   ]
  },
  {
   "cell_type": "code",
   "execution_count": null,
   "id": "f0d61d07",
   "metadata": {},
   "outputs": [],
   "source": [
    "#Ratio de rentabilité \n",
    "#Net Profit Margin\n",
    "plt.figure(figsize=(10, 6))\n",
    "sns.regplot(x=df[\"Net Profit Margin\"], y=df[\"Rating_Score\"], \n",
    "            scatter_kws={'alpha': 0.5}, line_kws={\"color\": \"red\"})\n",
    "\n",
    "plt.title(\"Relation entre Net Profit Margin et la Notation de Crédit\")\n",
    "plt.xlabel(\"Net Profit Margin\")\n",
    "plt.ylabel(\"Notation de Crédit (Score numérique)\")\n",
    "plt.grid(True)\n",
    "plt.figtext(0.5, -0.1, \n",
    "            \"Pour l'axe de la Notation de crédit : \\n\"\n",
    "            \"Plus le score est élevé, \"\n",
    "            \"plus la notation est mauvaise (ex: AAA=1, CCC=18 ou plus) \\n\", \n",
    "            wrap=True, horizontalalignment=\"center\", fontsize=10)\n",
    "\n",
    "plt.show()\n",
    "\n",
    "#ROE - Return On Equity\n",
    "plt.figure(figsize=(10, 6))\n",
    "plt.scatter(x=df[\"ROE - Return On Equity\"], y=df[\"Rating_Score\"], \n",
    "            s=point_sizes, c=df[\"Rating_Score\"], alpha=0.7, cmap=\"coolwarm\")\n",
    "\n",
    "plt.title(\"Relation entre ROE - Return On Equity et la Notation de Crédit\")\n",
    "plt.xlabel(\"ROE - Return On Equity\")\n",
    "plt.ylabel(\"Notation de Crédit (Score numérique)\")\n",
    "plt.colorbar(label=\"Score de Notation (Format numérique)\")\n",
    "plt.grid(True)\n",
    "plt.figtext(0.5, -0.05, \n",
    "            \"Pour l'axe de la Notation de crédit : \\n\"\n",
    "            \"Plus le score est élevé, \"\n",
    "            \"plus la notation est mauvaise (ex: AAA=1, CCC=18 ou plus) \\n\"\n",
    "            \"Plus une notation est fréquente, plus le point sera grand.\", \n",
    "            wrap=True, horizontalalignment=\"center\", fontsize=10)\n",
    "\n",
    "plt.show()"
   ]
  },
  {
   "cell_type": "code",
   "execution_count": null,
   "id": "3b172664",
   "metadata": {
    "lines_to_next_cell": 0
   },
   "outputs": [],
   "source": [
    "#SECTEUR"
   ]
  },
  {
   "cell_type": "code",
   "execution_count": null,
   "id": "77aee827",
   "metadata": {
    "lines_to_next_cell": 2
   },
   "outputs": [],
   "source": [
    "#Regroupement rating par secteur\n",
    "sector_rating = df.groupby(['Sector', 'Rating']).size().unstack().fillna(0)\n",
    "\n",
    "#Visualisation\n",
    "sector_rating.plot(kind='bar', stacked=True, figsize=(12, 6))\n",
    "plt.title(\"Répartition des notations de crédit par secteur\")\n",
    "plt.ylabel(\"Nombre d'entreprises\")\n",
    "plt.xlabel(\"Secteur\")\n",
    "plt.legend(title='Notation')\n",
    "plt.tight_layout()\n",
    "plt.figtext(0.5, -0.05, \n",
    "            \"Les secteurs sont regroupés par notation de crédit.\",\n",
    "            wrap=True, horizontalalignment=\"center\", fontsize=10)\n",
    "plt.show()"
   ]
  },
  {
   "cell_type": "code",
   "execution_count": null,
   "id": "5cbf36f5",
   "metadata": {
    "lines_to_next_cell": 0
   },
   "outputs": [],
   "source": [
    "#\"Binary Rating\" = Investment Grade ou Non-Investment Grade \n",
    "df.rename(columns={'Binary Rating': 'Investment Grade'}, inplace=True)\n",
    "\n",
    "df.columns"
   ]
  },
  {
   "cell_type": "code",
   "execution_count": null,
   "id": "b2e1aa6b",
   "metadata": {
    "lines_to_next_cell": 2
   },
   "outputs": [],
   "source": [
    "#Répartition des entreprise IG par secteur\n",
    "sector_IG = df.groupby(['Sector', 'Investment Grade']).size().unstack().fillna(0)\n",
    "\n",
    "# Visualisation\n",
    "sector_IG.plot(kind='bar', stacked=True, figsize=(12, 6))\n",
    "plt.title(\"Répartition des Investment Grade par secteur\")\n",
    "plt.ylabel(\"Nombre d'entreprises\")\n",
    "plt.xlabel(\"Secteur\")\n",
    "plt.legend(title='IG')\n",
    "plt.tight_layout()\n",
    "plt.figtext(0.5, -0.05, \n",
    "            \"Les secteurs sont regroupés par Investment Grade. \\n\"\n",
    "            \"1 : Investment Grade et 0 : Non Investment Grade\",\n",
    "            wrap=True, horizontalalignment=\"center\", fontsize=10)\n",
    "plt.show()"
   ]
  },
  {
   "cell_type": "code",
   "execution_count": null,
   "id": "668883d3",
   "metadata": {},
   "outputs": [],
   "source": [
    "#Matrice de corrélation par secteur\n",
    "#Liste des secteurs uniques\n",
    "sectors = df[\"Sector\"].dropna().unique()\n",
    "print(sectors)\n",
    "#Calculer les corrélations par secteur\n",
    "for sector in sectors:\n",
    "    print(f\"Corrélations pour le secteur : {sector}\")\n",
    "    sector_data = df[df[\"Sector\"] == sector]\n",
    "    correlation_matrix = sector_data[[\n",
    "        \"Current Ratio\", \"Debt/Equity Ratio\", \n",
    "        \"Net Profit Margin\", \"ROE - Return On Equity\"]].corr()\n",
    "    print(correlation_matrix)\n",
    "    print(\"\\n\")"
   ]
  },
  {
   "cell_type": "code",
   "execution_count": null,
   "id": "ae457c3b",
   "metadata": {},
   "outputs": [],
   "source": [
    "#Nuage de points pour visualiser les relations entre les ratios financiers et la notation de crédit\n",
    "# Visualiser les relations par secteur\n",
    "for sector in sectors:\n",
    "    print(f\"Visualisation pour le secteur : {sector}\")\n",
    "    sector_data = df[df[\"Sector\"] == sector]\n",
    "    \n",
    "    # Exemple : Relation entre Current Ratio et Rating_Score\n",
    "    plt.figure(figsize=(10, 6))\n",
    "    sns.regplot(x=sector_data[\"Current Ratio\"], y=sector_data[\"Rating_Score\"], \n",
    "                scatter_kws={'alpha': 0.5}, line_kws={\"color\": \"red\"})\n",
    "    plt.title(f\"Relation entre Current Ratio et Notation de Crédit ({sector})\")\n",
    "    plt.xlabel(\"Current Ratio\")\n",
    "    plt.ylabel(\"Notation de Crédit (Score numérique)\")\n",
    "    plt.grid(True)\n",
    "    plt.show()"
   ]
  },
  {
   "cell_type": "code",
   "execution_count": null,
   "id": "8f0f8e2e",
   "metadata": {},
   "outputs": [],
   "source": [
    "# Moyenne des ratios financiers par secteur\n",
    "sector_ratios = df.groupby('Sector')[[\"Current Ratio\", \"Debt/Equity Ratio\", \"Net Profit Margin\", \n",
    "        \"ROE - Return On Equity\"]].mean().sort_values(by='Current Ratio', ascending=True)\n",
    "\n",
    "# Visualisation avec heatmap\n",
    "sns.heatmap(sector_ratios, annot=True, cmap='coolwarm')\n",
    "plt.title(\"Moyennes des ratios financiers par secteur :\")\n",
    "plt.show()"
   ]
  },
  {
   "cell_type": "code",
   "execution_count": null,
   "id": "a09abea0",
   "metadata": {},
   "outputs": [],
   "source": [
    "sector_means = df.groupby(\"Sector\")[[\n",
    "    \"Current Ratio\", \"Debt/Equity Ratio\", \n",
    "    \"Net Profit Margin\", \"ROE - Return On Equity\"]].mean()\n",
    "\n",
    "print(\"Moyennes des ratios financiers par secteur :\")\n",
    "print(sector_means)\n",
    "\n",
    "# Visualisation des moyennes par secteur\n",
    "sector_means.plot(kind=\"bar\", figsize=(12, 6))\n",
    "plt.title(\"Moyennes des ratios financiers par secteur\")\n",
    "plt.xlabel(\"Secteur\")\n",
    "plt.ylabel(\"Valeurs moyennes\")\n",
    "plt.legend(loc=\"upper right\")\n",
    "plt.grid(True)\n",
    "plt.show()"
   ]
  },
  {
   "cell_type": "code",
   "execution_count": null,
   "id": "3da350cc",
   "metadata": {},
   "outputs": [],
   "source": [
    "# Identifier les valeurs aberrantes par secteur\n",
    "outlier_summary = []\n",
    "\n",
    "for sector in sectors:\n",
    "    sector_data = df[df[\"Sector\"] == sector]\n",
    "    \n",
    "    for ratio in [\"Current Ratio\", \"Debt/Equity Ratio\", \"Net Profit Margin\", \"ROE - Return On Equity\"]:\n",
    "        Q1 = sector_data[ratio].quantile(0.25)\n",
    "        Q3 = sector_data[ratio].quantile(0.75)\n",
    "        IQR = Q3 - Q1\n",
    "        outliers = sector_data[(sector_data[ratio] < (Q1 - 1.5 * IQR)) | \n",
    "                               (sector_data[ratio] > (Q3 + 1.5 * IQR))]\n",
    "        count_outliers = outliers.shape[0]\n",
    "        pourcentage = round((count_outliers / sector_data.shape[0]) * 100, 2)\n",
    "\n",
    "        outlier_summary.append({\n",
    "            \"Sector\": sector,\n",
    "            \"Ratio\": ratio,\n",
    "            \"Nombre d'outliers\": count_outliers,\n",
    "            \"% d'outliers\": pourcentage\n",
    "        })\n",
    "\n",
    "# Affichage\n",
    "outlier_df = pd.DataFrame(outlier_summary)\n",
    "print(outlier_df)"
   ]
  },
  {
   "cell_type": "code",
   "execution_count": null,
   "id": "ec991f73",
   "metadata": {},
   "outputs": [],
   "source": [
    "#Médiane des ratios financiers par secteur\n",
    "sector_ratios_median = df.groupby('Sector')[[\"Current Ratio\", \"Debt/Equity Ratio\", \"Net Profit Margin\", \n",
    "        \"ROE - Return On Equity\"]].median().sort_values(by='Current Ratio', ascending=True)\n",
    "\n",
    "# Visualisation avec heatmap\n",
    "sns.heatmap(sector_ratios_median, annot=True, cmap='coolwarm')\n",
    "plt.title(\"Médianes des ratios financiers par secteur :\")\n",
    "plt.show()"
   ]
  },
  {
   "cell_type": "code",
   "execution_count": null,
   "id": "28759c7c",
   "metadata": {},
   "outputs": [],
   "source": [
    "#Distribution du ROE par secteur\n",
    "for sector in sectors:\n",
    "    print(f\"Distribution pour le secteur : {sector}\")\n",
    "    sector_data = df[df[\"Sector\"] == sector]\n",
    "    \n",
    "    # Histogramme pour un ratio spécifique\n",
    "    plt.figure(figsize=(10, 6))\n",
    "    sns.histplot(sector_data[\"ROE - Return On Equity\"], bins=30, kde=True)\n",
    "    plt.title(f\"Distribution du ROE ({sector})\")\n",
    "    plt.xlabel(\"ROE - Return On Equity\")\n",
    "    plt.ylabel(\"Fréquence\")\n",
    "    plt.grid(True)\n",
    "    plt.show()"
   ]
  },
  {
   "cell_type": "code",
   "execution_count": null,
   "id": "019472b6",
   "metadata": {},
   "outputs": [],
   "source": [
    "#Winsorisation des ratios financiers pour réduire l'impact des valeurs extrêmes\n",
    "#Importation de la fonction de winsorisation\n",
    "from scipy.stats.mstats import winsorize\n",
    "\n",
    "#Copie de df pour la winsorisation\n",
    "df_winsorized = df.copy()\n",
    "\n",
    "#Liste des ratios financiers à winsoriser\n",
    "ratios = [\"Current Ratio\", \"Debt/Equity Ratio\", \"Net Profit Margin\", \"ROE - Return On Equity\"]\n",
    "\n",
    "#Myennes par secteur avant winsorisation\n",
    "sector_means_before = df.groupby(\"Sector\")[ratios].mean()\n",
    "\n",
    "#Winsorisation (par exemple : on limite les valeurs extrêmes aux 1er et 99e percentiles)\n",
    "for ratio in ratios:\n",
    "    lower = 0.05 \n",
    "    upper = 0.05  \n",
    "    df_winsorized[ratio] = winsorize(df[ratio], limits=(lower, upper))\n",
    "\n",
    "#Moyennes par secteur après winsorisation\n",
    "sector_means_after = df_winsorized.groupby(\"Sector\")[ratios].mean()\n",
    "\n",
    "#Visualisation des moyennes avant winsorisation\n",
    "sns.heatmap(sector_means_before, annot=True, cmap=\"coolwarm\")\n",
    "plt.title(\"Moyennes des ratios financiers par secteur (Avant Winsorisation)\")\n",
    "plt.show()\n",
    "\n",
    "#Visualisation des moyennes après winsorisation\n",
    "sns.heatmap(sector_means_after, annot=True, cmap=\"coolwarm\")\n",
    "plt.title(\"Moyennes des ratios financiers par secteur (Après Winsorisation)\")\n",
    "plt.show()"
   ]
  },
  {
   "cell_type": "code",
   "execution_count": null,
   "id": "1396bb32",
   "metadata": {
    "lines_to_next_cell": 0
   },
   "outputs": [],
   "source": [
    "#SCORE RISQUE "
   ]
  },
  {
   "cell_type": "code",
   "execution_count": null,
   "id": "fb5082b9",
   "metadata": {},
   "outputs": [],
   "source": [
    "#Création du score risque entreprise\n",
    "#Calcul de la corrélation entre les ratios et la notation\n",
    "correlations = df[[\"Rating_Score\", \"Current Ratio\", \"Debt/Equity Ratio\", \n",
    "                   \"Net Profit Margin\", \"ROE - Return On Equity\"]].corr()\n",
    "\n",
    "#Corrélations avec Rating_score \n",
    "correlation_rating = correlations[\"Rating_Score\"].drop(\"Rating_Score\")\n",
    "print(correlation_rating)"
   ]
  },
  {
   "cell_type": "code",
   "execution_count": null,
   "id": "af88cbc0",
   "metadata": {},
   "outputs": [],
   "source": [
    "#Poids du ratio sur le rating en valeur absolue pour éviter les effets de signe\n",
    "weights = correlation_rating.abs() / correlation_rating.abs().sum()\n",
    "\n",
    "print(\"Poids des ratios basés sur leur corrélation avec la notation :\")\n",
    "print(weights)"
   ]
  },
  {
   "cell_type": "code",
   "execution_count": null,
   "id": "c3af681a",
   "metadata": {},
   "outputs": [],
   "source": [
    "#Calcul du score de risque pondéré\n",
    "df[\"Risk_Score\"] = (\n",
    "    df[\"Current Ratio\"] * weights[\"Current Ratio\"] +\n",
    "    df[\"Debt/Equity Ratio\"] * weights[\"Debt/Equity Ratio\"] +\n",
    "    df[\"Net Profit Margin\"] * weights[\"Net Profit Margin\"] +\n",
    "    df[\"ROE - Return On Equity\"] * weights[\"ROE - Return On Equity\"]\n",
    ")\n",
    "\n",
    "# Afficher les premiers scores\n",
    "print(df[[\"Corporation\", \"Risk_Score\"]].head())"
   ]
  },
  {
   "cell_type": "code",
   "execution_count": null,
   "id": "6ba6efc7",
   "metadata": {},
   "outputs": [],
   "source": [
    "df[\"Risk_Score\"].describe()"
   ]
  },
  {
   "cell_type": "code",
   "execution_count": null,
   "id": "0ac00b04",
   "metadata": {},
   "outputs": [],
   "source": [
    "#Distribution des scores de risque \n",
    "plt.figure(figsize=(10, 6))\n",
    "sns.histplot(df[\"Risk_Score\"], bins=30, kde=True, color=\"blue\")\n",
    "plt.title(\"Distribution des scores de risque\")\n",
    "plt.xlabel(\"Score de risque\")\n",
    "plt.ylabel(\"Fréquence\")\n",
    "plt.grid(True)\n",
    "plt.show()"
   ]
  },
  {
   "cell_type": "code",
   "execution_count": null,
   "id": "0d87d7f3",
   "metadata": {
    "lines_to_next_cell": 0
   },
   "outputs": [],
   "source": [
    "#Création du score risque secteur (Normalisé)"
   ]
  },
  {
   "cell_type": "code",
   "execution_count": null,
   "id": "a55e4492",
   "metadata": {},
   "outputs": [],
   "source": [
    "#Importation du Min-Max Scaler pour la normalisation\n",
    "from sklearn.preprocessing import MinMaxScaler\n",
    "\n",
    "#Création du scaler\n",
    "scaler = MinMaxScaler()"
   ]
  },
  {
   "cell_type": "code",
   "execution_count": null,
   "id": "4436e0f7",
   "metadata": {},
   "outputs": [],
   "source": [
    "#Calcul des médianes des ratios par secteur\n",
    "sector_medians = df.groupby(\"Sector\")[ratios].median()\n",
    "\n",
    "print(sector_medians)\n",
    "\n",
    "#Normalisation des médianes sectorielles\n",
    "sector_medians_normalized = sector_medians.copy()\n",
    "sector_medians_normalized[ratios] = scaler.fit_transform(sector_medians[ratios])\n",
    "\n",
    "# Vérifier les données normalisées\n",
    "print(sector_medians_normalized)"
   ]
  },
  {
   "cell_type": "code",
   "execution_count": null,
   "id": "ccf03170",
   "metadata": {},
   "outputs": [],
   "source": [
    "# Calcul de la notation moyenne (médiane) par secteur\n",
    "sector_medians_normalized[\"Rating_Score\"] = df.groupby(\"Sector\")[\"Rating_Score\"].median()\n",
    "\n",
    "# Vérifier les notations moyennes par secteur\n",
    "print(sector_medians_normalized)"
   ]
  },
  {
   "cell_type": "code",
   "execution_count": null,
   "id": "c7d25908",
   "metadata": {},
   "outputs": [],
   "source": [
    "#Corrélations entre les ratios et la notation moyenne\n",
    "sector_correlations = sector_medians_normalized.corr()[\"Rating_Score\"].drop(\"Rating_Score\")\n",
    "\n",
    "print(sector_correlations)"
   ]
  },
  {
   "cell_type": "code",
   "execution_count": null,
   "id": "357f4de8",
   "metadata": {},
   "outputs": [],
   "source": [
    "#Poids du ratio sur le rating en valeur absolue\n",
    "sector_weights = sector_correlations.abs() / sector_correlations.abs().sum()\n",
    "\n",
    "print(\"Poids des ratios basés sur leur corrélation avec la notation :\")\n",
    "print(sector_weights)"
   ]
  },
  {
   "cell_type": "code",
   "execution_count": null,
   "id": "19f3294e",
   "metadata": {},
   "outputs": [],
   "source": [
    "#Calcul score de risque pour les secteurs\n",
    "sector_medians_normalized[\"Sector_Risk_Score\"] = (\n",
    "    sector_medians_normalized[\"Current Ratio\"] * sector_weights[\"Current Ratio\"] +\n",
    "    sector_medians_normalized[\"Debt/Equity Ratio\"] * sector_weights[\"Debt/Equity Ratio\"] +\n",
    "    sector_medians_normalized[\"Net Profit Margin\"] * sector_weights[\"Net Profit Margin\"] +\n",
    "    sector_medians_normalized[\"ROE - Return On Equity\"] * sector_weights[\"ROE - Return On Equity\"]\n",
    ").round(3)\n",
    "\n",
    "print(sector_medians_normalized[[\"Sector_Risk_Score\"]])"
   ]
  },
  {
   "cell_type": "code",
   "execution_count": null,
   "id": "3a257968",
   "metadata": {},
   "outputs": [],
   "source": [
    "# Visualisation des scores sectoriels\n",
    "plt.figure(figsize=(12, 6))\n",
    "sector_medians_normalized[\"Sector_Risk_Score\"].sort_values().plot(kind=\"bar\", color=\"skyblue\")\n",
    "plt.title(\"Scores de risque par secteur (basés sur les médianes normalisées)\")\n",
    "plt.xlabel(\"Secteur\")\n",
    "plt.ylabel(\"Score de risque\")\n",
    "plt.grid(True)\n",
    "plt.show()"
   ]
  },
  {
   "cell_type": "code",
   "execution_count": null,
   "id": "0c18f7fe",
   "metadata": {},
   "outputs": [],
   "source": [
    "#Normalisation des ratios financiers des entreprises\n",
    "df_normalized = df.copy()\n",
    "df_normalized[ratios] = scaler.fit_transform(df[ratios])\n",
    "\n",
    "#Calcul du score de risque pour les entreprises (normalisé)\n",
    "df_normalized[\"Risk_Score\"] = (\n",
    "    df_normalized[\"Current Ratio\"] * sector_weights[\"Current Ratio\"] +\n",
    "    df_normalized[\"Debt/Equity Ratio\"] * sector_weights[\"Debt/Equity Ratio\"] +\n",
    "    df_normalized[\"Net Profit Margin\"] * sector_weights[\"Net Profit Margin\"] +\n",
    "    df_normalized[\"ROE - Return On Equity\"] * sector_weights[\"ROE - Return On Equity\"]\n",
    ").round(3)\n",
    "\n",
    "print(df_normalized[[\"Corporation\", \"Risk_Score\"]].head())"
   ]
  },
  {
   "cell_type": "code",
   "execution_count": null,
   "id": "b57cbe27",
   "metadata": {},
   "outputs": [],
   "source": [
    "#Comparaison des scores de risque\n",
    "#Ajout des scores de risque sectoriels à df_normalized\n",
    "df_normalized = pd.merge(df_normalized, sector_medians_normalized[[\"Sector_Risk_Score\"]], \n",
    "                         left_on=\"Sector\", right_index=True)\n",
    "\n",
    "df_normalized[\"Risk_Comparaison\"] = df_normalized[\"Risk_Score\"] - df_normalized[\"Sector_Risk_Score\"]"
   ]
  },
  {
   "cell_type": "code",
   "execution_count": null,
   "id": "d8edf533",
   "metadata": {
    "lines_to_next_cell": 0
   },
   "outputs": [],
   "source": [
    "#EXPORT DES DONNEES"
   ]
  },
  {
   "cell_type": "code",
   "execution_count": null,
   "id": "24a51b3f",
   "metadata": {},
   "outputs": [],
   "source": [
    "print(df.columns)\n",
    "print(df_normalized.columns)"
   ]
  },
  {
   "cell_type": "code",
   "execution_count": null,
   "id": "bc3ceac3",
   "metadata": {},
   "outputs": [],
   "source": [
    "#Sélection des colonnes à exporter\n",
    "export_colonnes1 = [\"Corporation\", \"Sector\", \"SubSector\", \"Industry\", \n",
    "                   \"Rating Agency\", \"Rating\", \"Rating_Score\",\"Investment Grade\", \n",
    "                   \"Current Ratio\", \"Debt/Equity Ratio\", \n",
    "                   \"Net Profit Margin\", \"ROE - Return On Equity\", \n",
    "                   \"Risk_Score\"]\n",
    "\n",
    "export_colonnes2 = export_colonnes1 + [\"Sector_Risk_Score\", \"Risk_Comparaison\"]\n",
    "\n",
    "#Export des données non normalisées\n",
    "df[export_colonnes1].to_excel(\"CorporateCredit_NonNormalized.xlsx\", index=False)\n",
    "\n",
    "#Export des données normalisées\n",
    "df_normalized[export_colonnes2].to_excel(\"CorporateCredit_Normalized.xlsx\", index=False)\n",
    "\n",
    "print(\"Export terminé : fichiers Excel générés.\")"
   ]
  },
  {
   "cell_type": "code",
   "execution_count": null,
   "id": "9be90aab",
   "metadata": {},
   "outputs": [],
   "source": []
  }
 ],
 "metadata": {
  "jupytext": {
   "cell_metadata_filter": "-all",
   "main_language": "python",
   "notebook_metadata_filter": "-all"
  }
 },
 "nbformat": 4,
 "nbformat_minor": 5
}
