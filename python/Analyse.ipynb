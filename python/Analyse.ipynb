{
 "cells": [
  {
   "cell_type": "code",
   "execution_count": null,
   "id": "1113718c",
   "metadata": {},
   "outputs": [],
   "source": [
    "#Synchronisation du fichier .ipnyb avec le fichier .py\n",
    "# ---\n",
    "# jupyter:\n",
    "#   jupytext:\n",
    "#     formats: py:percent,ipynb\n",
    "# ---"
   ]
  },
  {
   "cell_type": "code",
   "execution_count": 1,
   "id": "9e38ced4",
   "metadata": {},
   "outputs": [],
   "source": [
    "#Importation des bibliothèques\n",
    "import pandas as pd\n",
    "import numpy as np\n",
    "import matplotlib.pyplot as plt\n",
    "import seaborn as sns"
   ]
  },
  {
   "cell_type": "code",
   "execution_count": 2,
   "id": "b34022c4",
   "metadata": {},
   "outputs": [],
   "source": [
    " #CHARGEMENT DES DONNEES"
   ]
  },
  {
   "cell_type": "code",
   "execution_count": 3,
   "id": "61e87697",
   "metadata": {},
   "outputs": [
    {
     "name": "stdout",
     "output_type": "stream",
     "text": [
      "                        Rating Agency                     Corporation Rating  \\\n",
      "0  Standard & Poor's Ratings Services       American States Water Co.     A-   \n",
      "1  Standard & Poor's Ratings Services  Automatic Data Processing Inc.    AAA   \n",
      "2  Standard & Poor's Ratings Services                      Avnet Inc.   BBB-   \n",
      "3  Standard & Poor's Ratings Services    California Water Service Co.    AA-   \n",
      "4  Standard & Poor's Ratings Services            Cardinal Health Inc.      A   \n",
      "\n",
      "  Rating Date      CIK  Binary Rating  SIC Code Sector Ticker  Current Ratio  \\\n",
      "0  2010-07-30  1056903              1      4941  Utils    AWR         1.1507   \n",
      "1  2010-09-16     8670              1      7374  BusEq    ADP         1.1129   \n",
      "2  2010-11-23     8858              1      5065  Shops    AVT         1.9276   \n",
      "3  2010-06-29  1035201              1      4941  Utils    CWT         0.8358   \n",
      "4  2010-07-14   721371              1      5122  Shops    CAH         1.2931   \n",
      "\n",
      "   ...  EBITDA Margin  Pre-Tax Profit Margin  Net Profit Margin  \\\n",
      "0  ...        28.9834                13.6093             8.3224   \n",
      "1  ...        23.9379                20.8699            13.5690   \n",
      "2  ...         3.6338                 3.0536             2.1418   \n",
      "3  ...        27.9377                15.1135             9.0246   \n",
      "4  ...         1.5847                 1.2304             0.6518   \n",
      "\n",
      "   Asset Turnover  ROE - Return On Equity  Return On Tangible Equity  \\\n",
      "0          0.3173                  8.1724                     8.1978   \n",
      "1          0.3324                 22.0354                    47.2858   \n",
      "2          2.4620                 13.6376                    16.7991   \n",
      "3          0.2946                  9.6412                     9.7015   \n",
      "4          4.9276                 11.1256                    19.4184   \n",
      "\n",
      "   ROA - Return On Assets  ROI - Return On Investment  \\\n",
      "0                  2.6385                      4.4530   \n",
      "1                  4.4944                     21.8765   \n",
      "2                  5.2731                      9.6494   \n",
      "3                  2.6583                      5.1018   \n",
      "4                  2.9364                      8.1844   \n",
      "\n",
      "   Operating Cash Flow Per Share  Free Cash Flow Per Share  \n",
      "0                         1.9957                   -0.1333  \n",
      "1                         0.2501                    0.3132  \n",
      "2                        -7.6079                   -7.3231  \n",
      "3                         1.7438                   -0.8999  \n",
      "4                         1.9725                    2.4174  \n",
      "\n",
      "[5 rows x 25 columns]\n",
      "<class 'pandas.core.frame.DataFrame'>\n",
      "RangeIndex: 7783 entries, 0 to 7782\n",
      "Data columns (total 25 columns):\n",
      " #   Column                         Non-Null Count  Dtype         \n",
      "---  ------                         --------------  -----         \n",
      " 0   Rating Agency                  7783 non-null   object        \n",
      " 1   Corporation                    7783 non-null   object        \n",
      " 2   Rating                         7783 non-null   object        \n",
      " 3   Rating Date                    7783 non-null   datetime64[ns]\n",
      " 4   CIK                            7783 non-null   int64         \n",
      " 5   Binary Rating                  7783 non-null   int64         \n",
      " 6   SIC Code                       7783 non-null   int64         \n",
      " 7   Sector                         7783 non-null   object        \n",
      " 8   Ticker                         7783 non-null   object        \n",
      " 9   Current Ratio                  7783 non-null   float64       \n",
      " 10  Long-term Debt / Capital       7783 non-null   float64       \n",
      " 11  Debt/Equity Ratio              7783 non-null   float64       \n",
      " 12  Gross Margin                   7783 non-null   float64       \n",
      " 13  Operating Margin               7783 non-null   float64       \n",
      " 14  EBIT Margin                    7783 non-null   float64       \n",
      " 15  EBITDA Margin                  7783 non-null   float64       \n",
      " 16  Pre-Tax Profit Margin          7783 non-null   float64       \n",
      " 17  Net Profit Margin              7783 non-null   float64       \n",
      " 18  Asset Turnover                 7783 non-null   float64       \n",
      " 19  ROE - Return On Equity         7783 non-null   float64       \n",
      " 20  Return On Tangible Equity      7783 non-null   float64       \n",
      " 21  ROA - Return On Assets         7783 non-null   float64       \n",
      " 22  ROI - Return On Investment     7783 non-null   float64       \n",
      " 23  Operating Cash Flow Per Share  7783 non-null   float64       \n",
      " 24  Free Cash Flow Per Share       7783 non-null   float64       \n",
      "dtypes: datetime64[ns](1), float64(16), int64(3), object(5)\n",
      "memory usage: 1.5+ MB\n",
      "None\n"
     ]
    }
   ],
   "source": [
    "#Chargement des datas\n",
    "df = pd.read_excel(r\"C:\\Users\\Jppok\\venv\\test_pandas\\Projet DA_Portfolio\\data\\CorporateCreditRating.xlsx\")\n",
    "\n",
    "#Afficher les 1ères lignes\n",
    "print(df.head())\n",
    "\n",
    "#Vérifier la structure des données\n",
    "print(df.info())"
   ]
  },
  {
   "cell_type": "code",
   "execution_count": 4,
   "id": "f6afb94a",
   "metadata": {
    "lines_to_next_cell": 2
   },
   "outputs": [
    {
     "name": "stdout",
     "output_type": "stream",
     "text": [
      "   SIC Code                             SubSector  \\\n",
      "0       100  Industrial Applications and Services   \n",
      "1       200  Industrial Applications and Services   \n",
      "2       700  Industrial Applications and Services   \n",
      "3       800  Industrial Applications and Services   \n",
      "4       900  Industrial Applications and Services   \n",
      "\n",
      "                                           Industry  \n",
      "0                     AGRICULTURAL PRODUCTION-CROPS  \n",
      "1  AGRICULTURAL PROD-LIVESTOCK & ANIMAL SPECIALTIES  \n",
      "2                             AGRICULTURAL SERVICES  \n",
      "3                                          FORESTRY  \n",
      "4                     FISHING, HUNTING AND TRAPPING  \n",
      "<class 'pandas.core.frame.DataFrame'>\n",
      "RangeIndex: 444 entries, 0 to 443\n",
      "Data columns (total 3 columns):\n",
      " #   Column     Non-Null Count  Dtype \n",
      "---  ------     --------------  ----- \n",
      " 0   SIC Code   444 non-null    int64 \n",
      " 1   SubSector  444 non-null    object\n",
      " 2   Industry   444 non-null    object\n",
      "dtypes: int64(1), object(2)\n",
      "memory usage: 10.5+ KB\n",
      "None\n"
     ]
    },
    {
     "name": "stderr",
     "output_type": "stream",
     "text": [
      "C:\\Users\\Jppok\\Anaconda\\Lib\\site-packages\\openpyxl\\worksheet\\_read_only.py:85: UserWarning: Unknown extension is not supported and will be removed\n",
      "  for idx, row in parser.parse():\n"
     ]
    }
   ],
   "source": [
    "#Chargement de la table détail des secteurs \n",
    "df_Sector = pd.read_excel(r\"C:\\Users\\Jppok\\venv\\test_pandas\\Projet DA_Portfolio\\data\\Sector_Table.xlsx\")\n",
    "\n",
    "#Afficher les 1ères lignes\n",
    "print(df_Sector.head())\n",
    "\n",
    "#Vérifier la structure des données\n",
    "print(df_Sector.info())"
   ]
  },
  {
   "cell_type": "code",
   "execution_count": 5,
   "id": "aa0f6c85",
   "metadata": {
    "lines_to_next_cell": 0
   },
   "outputs": [],
   "source": [
    "#PREPARATION DES DONNEES"
   ]
  },
  {
   "cell_type": "code",
   "execution_count": 6,
   "id": "08f2126d",
   "metadata": {},
   "outputs": [
    {
     "name": "stdout",
     "output_type": "stream",
     "text": [
      "SIC Code     0\n",
      "SubSector    0\n",
      "Industry     0\n",
      "dtype: int64\n",
      "Nombre de doublons: 0\n"
     ]
    }
   ],
   "source": [
    "#Valeurs manquantes et doublons\n",
    "    #valeurs manquantes\n",
    "print(df_Sector.isnull().sum())\n",
    "    #doublons\n",
    "doublons = df_Sector.duplicated().sum()\n",
    "print(\"Nombre de doublons:\", doublons)"
   ]
  },
  {
   "cell_type": "code",
   "execution_count": null,
   "id": "dfecd345",
   "metadata": {
    "lines_to_next_cell": 0
   },
   "outputs": [],
   "source": [
    "#Ajout de la table détail des secteurs à df\n",
    "df = pd.merge(df, df_Sector, on=\"SIC Code\", how=\"left\")\n",
    "\n",
    "df.head()"
   ]
  },
  {
   "cell_type": "code",
   "execution_count": null,
   "id": "68761069",
   "metadata": {
    "lines_to_next_cell": 0
   },
   "outputs": [],
   "source": [
    "#Valeurs manquantes\n",
    "print(df.isnull().sum())"
   ]
  },
  {
   "cell_type": "code",
   "execution_count": null,
   "id": "14a155dd",
   "metadata": {},
   "outputs": [],
   "source": [
    "#Suppression des lignes où SubSector est vide\n",
    "df = df.dropna(subset=[\"SubSector\"])\n",
    "print(df.isnull().sum())"
   ]
  },
  {
   "cell_type": "code",
   "execution_count": null,
   "id": "20ef36ad",
   "metadata": {},
   "outputs": [],
   "source": [
    "#doublons\n",
    "doublons = df.duplicated().sum()\n",
    "print(\"Nombre de doublons:\", doublons)"
   ]
  },
  {
   "cell_type": "code",
   "execution_count": null,
   "id": "a02beefd",
   "metadata": {
    "lines_to_next_cell": 0
   },
   "outputs": [],
   "source": [
    "#Renommage de \"Binary Rating\" = Investment Grade \n",
    "df.rename(columns={'Binary Rating': 'Investment Grade'}, inplace=True)\n",
    "\n",
    "df.columns"
   ]
  },
  {
   "cell_type": "code",
   "execution_count": null,
   "id": "77de98d8",
   "metadata": {},
   "outputs": [],
   "source": [
    "#Filtre des données sur l'agence de notation \"S&P\"\n",
    "df = df[df[\"Rating Agency\"] == \"Standard & Poor's Ratings Services\"]\n",
    "\n",
    "#Nombre de lignes après filtrage\n",
    "print(f\"Nombre de lignes après filtrage sur S&P : {df.shape[0]}\")"
   ]
  },
  {
   "cell_type": "code",
   "execution_count": null,
   "id": "18637a2e",
   "metadata": {},
   "outputs": [],
   "source": [
    "#Type de données \n",
    "print(df.dtypes)"
   ]
  },
  {
   "cell_type": "code",
   "execution_count": null,
   "id": "8d117e50",
   "metadata": {},
   "outputs": [],
   "source": [
    "#Liste des secteurs uniques\n",
    "df[\"Sector\"].unique()"
   ]
  },
  {
   "cell_type": "code",
   "execution_count": null,
   "id": "01ffe354",
   "metadata": {},
   "outputs": [],
   "source": [
    "#Renommer les secteurs\n",
    "sector_names = {\n",
    "    \"BusEq\": \"Business Equipment\",\n",
    "    \"Chems\": \"Chemicals\",\n",
    "    \"Durbl\": \"Durables\",\n",
    "    \"Enrgy\": \"Energy\",\n",
    "    \"Hlth\": \"Health\",\n",
    "    \"Manuf\": \"Manufacturing\",\n",
    "    \"Money\": \"Money\",\n",
    "    \"NoDur\": \"Non-Durables\",\n",
    "    \"Other\": \"Other\",\n",
    "    \"Shops\": \"Shops\",\n",
    "    \"Telcm\": \"Telecommunications\",\n",
    "    \"Utils\": \"Utilities\"}\n",
    "\n",
    "df[\"Sector\"] = df[\"Sector\"].replace(sector_names)\n",
    "\n",
    "#Vérification des changements\n",
    "df[\"Sector\"].unique()"
   ]
  },
  {
   "cell_type": "code",
   "execution_count": null,
   "id": "5b5291b5",
   "metadata": {
    "lines_to_next_cell": 0
   },
   "outputs": [],
   "source": [
    "#ANALYSE EXPLORATOIRE DES DONNEES"
   ]
  },
  {
   "cell_type": "code",
   "execution_count": null,
   "id": "f844a2f1",
   "metadata": {},
   "outputs": [],
   "source": [
    "#Affichage de la répartition des notations de crédit\n",
    "df[\"Rating\"].value_counts().plot(kind=\"bar\", figsize=(8, 4))\n",
    "    #Ajouter des titres et labels\n",
    "plt.title(\"Répartition des notations de crédit\")\n",
    "plt.xlabel(\"Notation\")\n",
    "plt.ylabel(\"Nombre d'entreprises\")\n",
    "    #Afficher le graphique\n",
    "plt.show()\n",
    "\n",
    "#Distribution des notations de crédit\n",
    "df[\"Rating\"].hist(figsize=(12, 8), bins=30)\n",
    "\n",
    "plt.title(\"Distribution des notations de crédit\")\n",
    "plt.xlabel(\"Notation\")\n",
    "plt.ylabel(\"Nombre d'entreprises\")\n",
    "plt.show()"
   ]
  },
  {
   "cell_type": "code",
   "execution_count": null,
   "id": "1780c2a8",
   "metadata": {
    "lines_to_next_cell": 0
   },
   "outputs": [],
   "source": [
    "#Analyse des ratios financiers "
   ]
  },
  {
   "cell_type": "code",
   "execution_count": null,
   "id": "a287f598",
   "metadata": {},
   "outputs": [],
   "source": [
    "#Sélection des ratios \n",
    "ratios = [\"Current Ratio\", \"Debt/Equity Ratio\", \"ROE - Return On Equity\", \"Net Profit Margin\"]\n",
    "\n",
    "#histogrammes\n",
    "plt.figure(figsize=(10, 8))\n",
    "for i, ratio in enumerate(ratios, 1):\n",
    "    plt.subplot(2, 2, i)\n",
    "    sns.histplot(df[ratio], bins=30, kde=True)\n",
    "    plt.title(f\"Distribution de {ratio}\")\n",
    "    plt.xlabel(ratio)\n",
    "    plt.ylabel(\"Fréquence\")\n",
    "plt.tight_layout()\n",
    "plt.show()\n",
    "\n",
    "#Statistique descriptive\n",
    "df[ratios].describe()"
   ]
  },
  {
   "cell_type": "code",
   "execution_count": null,
   "id": "e710880b",
   "metadata": {},
   "outputs": [],
   "source": [
    "#Analyse écart interquartile\n",
    "total_rows = df.shape[0]  \n",
    "\n",
    "for i, ratio in enumerate(ratios, 1):\n",
    "    Q1 = df[ratio].quantile(0.25) #1er quartile\n",
    "    Q3 = df[ratio].quantile(0.75) #2ème quartile\n",
    "    IQR = Q3 - Q1\n",
    "\n",
    "    #Filtrage des valeurs aberrantes\n",
    "    val_aberrantes = df[(df[ratio] < (Q1 - 1.5 * IQR)) | (df[ratio] > (Q3 + 1.5 * IQR))]\n",
    "    \n",
    "    print(f\"Ratio : {ratio}\")\n",
    "    print(f\" - Valeurs aberrantes : {val_aberrantes.shape[0]}\")\n",
    "    print(f\" - Pourcentage du total : {round((val_aberrantes.shape[0]/total_rows)*100, 2)} %\\n\")"
   ]
  },
  {
   "cell_type": "code",
   "execution_count": null,
   "id": "6f5f142d",
   "metadata": {
    "lines_to_next_cell": 2
   },
   "outputs": [],
   "source": [
    "#Dispersion avec boxplot\n",
    "plt.figure(figsize=(8, 6))\n",
    "    #Afficher plusieurs graphs (subplot)\n",
    "plt.subplot(4, 1, 1)\n",
    "plt.boxplot(df[\"Current Ratio\"], vert=False)\n",
    "plt.title(\"Boxplot du Current Ratio\")\n",
    "plt.subplot(4, 1, 2)\n",
    "plt.boxplot(df[\"Debt/Equity Ratio\"], vert=False)\n",
    "plt.title(\"Boxplot du Debt/Equity Ratio\")\n",
    "plt.subplot(4, 1, 3)\n",
    "plt.boxplot(df[\"ROE - Return On Equity\"], vert=False)\n",
    "plt.title(\"Boxplot du ROE\")\n",
    "plt.subplot(4, 1, 4)\n",
    "plt.boxplot(df[\"Net Profit Margin\"], vert=False)\n",
    "plt.title(\"Boxplot du NPM\")\n",
    "plt.figtext(0.5, -0.1, \n",
    "            \"Les points hors des moustaches du boxplot correspondent aux valeurs extrêmes détectées par la méthode IQR. \\n\"\n",
    "            \"Cette méthode permet d'identifier les potentielles valeurs aberrantes\", \n",
    "            wrap=True, horizontalalignment=\"center\", fontsize=10)\n",
    "plt.tight_layout() "
   ]
  },
  {
   "cell_type": "code",
   "execution_count": null,
   "id": "bde8c198",
   "metadata": {},
   "outputs": [],
   "source": [
    "#Etude des relations entre variables (corrélations, tendances).\n",
    "#Convertir la notation de crédit en score numérique \n",
    "rating_mapping = {\"AAA\": 23, \"AA+\": 22, \"AA\": 21, \"AA-\": 20,\n",
    "                  \"A+\": 19, \"A\": 18, \"A-\": 17,\n",
    "                  \"BBB+\": 16, \"BBB\": 15, \"BBB-\": 14,\n",
    "                  \"BB+\": 13, \"BB\": 12, \"BB-\": 11,\n",
    "                  \"B+\": 10, \"B\": 9, \"B-\": 8,\n",
    "                  \"CCC+\": 7, \"CCC\": 6, \"CCC-\": 5,\n",
    "                  \"CC+\": 4, \"CC\": 3,\n",
    "                  \"C\": 2, \"D\": 1}\n",
    "#Associe la notation au nouveau score numérique \n",
    "df[\"Rating_Score\"] = df[\"Rating\"].map(rating_mapping)"
   ]
  },
  {
   "cell_type": "code",
   "execution_count": null,
   "id": "404129a0",
   "metadata": {
    "lines_to_next_cell": 2
   },
   "outputs": [],
   "source": [
    "#Analyse avec la matrice de corrélation\n",
    "list_corr = [\"Rating_Score\", \"Current Ratio\", \"Debt/Equity Ratio\", \"Long-term Debt / Capital\", \n",
    "          \"ROE - Return On Equity\", \"Net Profit Margin\", \"EBITDA Margin\", \"ROI - Return On Investment\", \n",
    "          \"Return On Tangible Equity\", \"ROA - Return On Assets\", \"EBIT Margin\", \"Gross Margin\",\n",
    "          \"Asset Turnover\", \"Operating Cash Flow Per Share\", \"Free Cash Flow Per Share\",\n",
    "          \"Pre-Tax Profit Margin\", \"Operating Margin\"]\n",
    "\n",
    "df[list_corr].corr()\n",
    "\n",
    "#Visualisation de la matrice de corrélation\n",
    "plt.figure(figsize=(12, 8))\n",
    "sns.heatmap(df[list_corr].corr(),\n",
    "            annot=True, cmap=\"coolwarm\", fmt=\".2f\", linewidths=0.5)\n",
    "plt.title(\"Matrice de corrélation des ratios financiers et de la notation de crédit\")\n",
    "plt.figtext(0.5, -0.1,\n",
    "            \"La matrice de corrélation montre les relations entre les ratios financiers et la notation de crédit. \\n\"\n",
    "            \"Les valeurs proches de 1 ou -1 indiquent une forte corrélation, tandis que les valeurs proches de 0 indiquent une faible corrélation.\", \n",
    "            wrap=True, horizontalalignment=\"center\", fontsize=10)\n",
    "plt.tight_layout()\n",
    "plt.show()"
   ]
  },
  {
   "cell_type": "code",
   "execution_count": null,
   "id": "511a0f97",
   "metadata": {
    "lines_to_next_cell": 0
   },
   "outputs": [],
   "source": [
    "#Visualisation"
   ]
  },
  {
   "cell_type": "code",
   "execution_count": null,
   "id": "12578431",
   "metadata": {
    "lines_to_next_cell": 2
   },
   "outputs": [],
   "source": [
    "#Ratio de liquidité\n",
    "#Nuage de point  avec une courbe de tendance\n",
    "plt.figure(figsize=(10, 6))\n",
    "sns.regplot(x=df[\"Current Ratio\"], y=df[\"Rating_Score\"], \n",
    "            scatter_kws={'alpha': 0.5}, line_kws={\"color\": \"red\"})\n",
    "\n",
    "plt.title(\"Relation entre le Current Ratio et la Notation de Crédit\")\n",
    "plt.xlabel(\"Current Ratio\")\n",
    "plt.ylabel(\"Notation de Crédit (Score numérique)\")\n",
    "plt.grid(True)\n",
    "plt.figtext(0.5, -0.1, \n",
    "            \"Pour l'axe de la Notation de crédit : \\n\"\n",
    "            \"Plus le score est élevé, \"\n",
    "            \"plus la notation est mauvaise (ex: AAA=1, CCC=18 ou plus) \\n\", \n",
    "            wrap=True, horizontalalignment=\"center\", fontsize=10)\n",
    "\n",
    "plt.show()"
   ]
  },
  {
   "cell_type": "code",
   "execution_count": null,
   "id": "b441d5b7",
   "metadata": {},
   "outputs": [],
   "source": [
    "#Nombre d'entreprises par Rating_Score \n",
    "rating_counts = df[\"Rating_Score\"].value_counts()\n",
    "\n",
    "#Rating_count pour associer le nombre d'entreprise à la note de Rating score\n",
    "df[\"Rating_Count\"] = df[\"Rating_Score\"].map(rating_counts)\n",
    "\n",
    "#Définir la taille des points en fonction du nombre d’entreprises ayant la même note\n",
    "#Racine carrée (sqrt) pour atténuer l'effet de la distribution hétérogène de Rating_score \n",
    "point_sizes = np.sqrt(df[\"Rating_Count\"]) * 20  \n",
    "\n",
    "#Nuage de point \n",
    "plt.figure(figsize=(10, 6))\n",
    "plt.scatter(x=df[\"Current Ratio\"], y=df[\"Rating_Score\"], \n",
    "            s=point_sizes, c=df[\"Rating_Score\"], alpha=0.7, cmap=\"coolwarm\")\n",
    "\n",
    "plt.title(\"Relation entre Current Ratio et la Notation de Crédit\")\n",
    "plt.xlabel(\"Current Ratio\")\n",
    "plt.ylabel(\"Notation de Crédit (Score numérique)\")\n",
    "plt.colorbar(label=\"Score de Notation (Format numérique)\")\n",
    "plt.grid(True)\n",
    "plt.figtext(0.5, -0.05, \n",
    "            \"Pour l'axe de la Notation de crédit : \\n\"\n",
    "            \"Plus le score est élevé, \"\n",
    "            \"plus la notation est mauvaise (ex: AAA=1, CCC=18 ou plus) \\n\"\n",
    "            \"Plus une notation est fréquente, plus le point sera grand.\", \n",
    "            wrap=True, horizontalalignment=\"center\", fontsize=10)\n",
    "\n",
    "plt.show()"
   ]
  },
  {
   "cell_type": "code",
   "execution_count": null,
   "id": "424c1174",
   "metadata": {
    "lines_to_next_cell": 0
   },
   "outputs": [],
   "source": [
    "#Ratio d'endettement \n",
    "#Debt/Equity Ratio\n",
    "plt.figure(figsize=(10, 6))\n",
    "sns.regplot(x=df[\"Debt/Equity Ratio\"], y=df[\"Rating_Score\"], \n",
    "            scatter_kws={'alpha': 0.5}, line_kws={\"color\": \"red\"})\n",
    "\n",
    "plt.title(\"Relation entre Debt/Equity Ratio et la Notation de Crédit\")\n",
    "plt.xlabel(\"Debt/Equity Ratio\")\n",
    "plt.ylabel(\"Notation de Crédit (Score numérique)\")\n",
    "plt.grid(True)\n",
    "plt.figtext(0.5, -0.1, \n",
    "            \"Pour l'axe de la Notation de crédit : \\n\"\n",
    "            \"Plus le score est élevé, \"\n",
    "            \"plus la notation est mauvaise (ex: AAA=1, CCC=18 ou plus) \\n\", \n",
    "            wrap=True, horizontalalignment=\"center\", fontsize=10)\n",
    "\n",
    "plt.show()\n",
    "\n",
    "#Long-term Debt / Capital\n",
    "plt.figure(figsize=(10, 6))\n",
    "plt.scatter(x=df[\"Long-term Debt / Capital\"], y=df[\"Rating_Score\"], \n",
    "            s=point_sizes, c=df[\"Rating_Score\"], alpha=0.7, cmap=\"coolwarm\")\n",
    "\n",
    "plt.title(\"Relation entre Long-term Debt / Capital et la Notation de Crédit\")\n",
    "plt.xlabel(\"Long-term Debt / Capital\")\n",
    "plt.ylabel(\"Notation de Crédit (Score numérique)\")\n",
    "plt.colorbar(label=\"Score de Notation (Format numérique)\")\n",
    "plt.grid(True)\n",
    "plt.figtext(0.5, -0.05, \n",
    "            \"Pour l'axe de la Notation de crédit : \\n\"\n",
    "            \"Plus le score est élevé, \"\n",
    "            \"plus la notation est mauvaise (ex: AAA=1, CCC=18 ou plus) \\n\"\n",
    "            \"Plus une notation est fréquente, plus le point sera grand.\", \n",
    "            wrap=True, horizontalalignment=\"center\", fontsize=10)\n",
    "plt.show()"
   ]
  },
  {
   "cell_type": "code",
   "execution_count": null,
   "id": "c763ef3d",
   "metadata": {},
   "outputs": [],
   "source": [
    "#Ratio de rentabilité \n",
    "#Net Profit Margin\n",
    "plt.figure(figsize=(10, 6))\n",
    "sns.regplot(x=df[\"Net Profit Margin\"], y=df[\"Rating_Score\"], \n",
    "            scatter_kws={'alpha': 0.5}, line_kws={\"color\": \"red\"})\n",
    "\n",
    "plt.title(\"Relation entre Net Profit Margin et la Notation de Crédit\")\n",
    "plt.xlabel(\"Net Profit Margin\")\n",
    "plt.ylabel(\"Notation de Crédit (Score numérique)\")\n",
    "plt.grid(True)\n",
    "plt.figtext(0.5, -0.1, \n",
    "            \"Pour l'axe de la Notation de crédit : \\n\"\n",
    "            \"Plus le score est élevé, \"\n",
    "            \"plus la notation est mauvaise (ex: AAA=1, CCC=18 ou plus) \\n\", \n",
    "            wrap=True, horizontalalignment=\"center\", fontsize=10)\n",
    "\n",
    "plt.show()\n",
    "\n",
    "#ROE - Return On Equity\n",
    "plt.figure(figsize=(10, 6))\n",
    "plt.scatter(x=df[\"ROE - Return On Equity\"], y=df[\"Rating_Score\"], \n",
    "            s=point_sizes, c=df[\"Rating_Score\"], alpha=0.7, cmap=\"coolwarm\")\n",
    "\n",
    "plt.title(\"Relation entre ROE - Return On Equity et la Notation de Crédit\")\n",
    "plt.xlabel(\"ROE - Return On Equity\")\n",
    "plt.ylabel(\"Notation de Crédit (Score numérique)\")\n",
    "plt.colorbar(label=\"Score de Notation (Format numérique)\")\n",
    "plt.grid(True)\n",
    "plt.figtext(0.5, -0.05, \n",
    "            \"Pour l'axe de la Notation de crédit : \\n\"\n",
    "            \"Plus le score est élevé, \"\n",
    "            \"plus la notation est mauvaise (ex: AAA=1, CCC=18 ou plus) \\n\"\n",
    "            \"Plus une notation est fréquente, plus le point sera grand.\", \n",
    "            wrap=True, horizontalalignment=\"center\", fontsize=10)\n",
    "\n",
    "plt.show()"
   ]
  },
  {
   "cell_type": "code",
   "execution_count": null,
   "id": "3c383064",
   "metadata": {
    "lines_to_next_cell": 0
   },
   "outputs": [],
   "source": [
    "#Analyse sectorielle"
   ]
  },
  {
   "cell_type": "code",
   "execution_count": null,
   "id": "29b962b7",
   "metadata": {},
   "outputs": [],
   "source": [
    "#Regroupement rating par secteur\n",
    "sector_rating = df.groupby(['Sector', 'Rating']).size().unstack().fillna(0)\n",
    "\n",
    "#Visualisation\n",
    "sector_rating.plot(kind='bar', stacked=True, figsize=(12, 6))\n",
    "plt.title(\"Répartition des notations de crédit par secteur\")\n",
    "plt.ylabel(\"Nombre d'entreprises\")\n",
    "plt.xlabel(\"Secteur\")\n",
    "plt.legend(title='Notation')\n",
    "plt.tight_layout()\n",
    "plt.figtext(0.5, -0.05, \n",
    "            \"Les secteurs sont regroupés par notation de crédit.\",\n",
    "            wrap=True, horizontalalignment=\"center\", fontsize=10)\n",
    "plt.show()"
   ]
  },
  {
   "cell_type": "code",
   "execution_count": null,
   "id": "f7efa1af",
   "metadata": {},
   "outputs": [],
   "source": [
    "#Répartition des entreprise IG par secteur\n",
    "sector_IG = df.groupby(['Sector', 'Investment Grade']).size().unstack().fillna(0)\n",
    "\n",
    "#Visualisation\n",
    "sector_IG.plot(kind='bar', stacked=True, figsize=(12, 6))\n",
    "plt.title(\"Répartition des Investment Grade par secteur\")\n",
    "plt.ylabel(\"Nombre d'entreprises\")\n",
    "plt.xlabel(\"Secteur\")\n",
    "plt.legend(title='IG')\n",
    "plt.tight_layout()\n",
    "plt.figtext(0.5, -0.05, \n",
    "            \"Les secteurs sont regroupés par Investment Grade. \\n\"\n",
    "            \"1 : Investment Grade et 0 : Non Investment Grade\",\n",
    "            wrap=True, horizontalalignment=\"center\", fontsize=10)\n",
    "plt.show()"
   ]
  },
  {
   "cell_type": "code",
   "execution_count": null,
   "id": "a663082d",
   "metadata": {},
   "outputs": [],
   "source": [
    "#Analyse de la tendance globale et par secteur du Rating score\n",
    "#Tendance globale\n",
    "trend = df.groupby(df[\"Rating Date\"].dt.to_period(\"Y\"))[\"Rating_Score\"].mean()\n",
    "\n",
    "#Tendance par secteur\n",
    "sector_trends = df.groupby([df[\"Rating Date\"].dt.to_period(\"Y\"), \"Sector\"])[\"Rating_Score\"].mean().unstack()\n",
    "\n",
    "#Visualisation\n",
    "sector_trends.plot(figsize=(12, 8))\n",
    "trend.plot(kind=\"line\", figsize=(12, 8), marker=\"o\",color=\"black\", linewidth=3, label=\"Tendance globale\")\n",
    "plt.xlabel(\"Année\")\n",
    "plt.ylabel(\"Score moyen de notation\")\n",
    "plt.title(\"Tendances des scores de notation par secteur et tendance globale\")\n",
    "plt.legend(title=\"Légende\", bbox_to_anchor=(1.05, 1), loc=\"upper left\")\n",
    "plt.grid(True)\n",
    "plt.show()"
   ]
  },
  {
   "cell_type": "code",
   "execution_count": null,
   "id": "4a5535b0",
   "metadata": {},
   "outputs": [],
   "source": [
    "#Matrice de corrélation par secteur\n",
    "#Liste des secteurs uniques\n",
    "sectors = df[\"Sector\"].dropna().unique()\n",
    "print(sectors)\n",
    "#Calcul des corrélations par secteur\n",
    "for sector in sectors:\n",
    "    print(f\"Corrélations pour le secteur : {sector}\")\n",
    "    sector_data = df[df[\"Sector\"] == sector]\n",
    "    correlation_matrix = sector_data[ratios].corr()\n",
    "    print(correlation_matrix)\n",
    "    print(\"\\n\")"
   ]
  },
  {
   "cell_type": "code",
   "execution_count": null,
   "id": "3705016e",
   "metadata": {},
   "outputs": [],
   "source": [
    "#Nuage de points pour visualiser les relations entre les ratios financiers et la notation de crédit\n",
    "#Visualiser les relations par secteur\n",
    "for sector in sectors:\n",
    "    print(f\"Visualisation pour le secteur : {sector}\")\n",
    "    sector_data = df[df[\"Sector\"] == sector]\n",
    "    \n",
    "    #Exemple : Relation entre Current Ratio et Rating_Score\n",
    "    plt.figure(figsize=(10, 6))\n",
    "    sns.regplot(x=sector_data[\"Current Ratio\"], y=sector_data[\"Rating_Score\"], \n",
    "                scatter_kws={'alpha': 0.5}, line_kws={\"color\": \"red\"})\n",
    "    plt.title(f\"Relation entre Current Ratio et Notation de Crédit ({sector})\")\n",
    "    plt.xlabel(\"Current Ratio\")\n",
    "    plt.ylabel(\"Notation de Crédit (Score numérique)\")\n",
    "    plt.grid(True)\n",
    "    plt.show()"
   ]
  },
  {
   "cell_type": "code",
   "execution_count": null,
   "id": "228b671f",
   "metadata": {},
   "outputs": [],
   "source": [
    "#Moyenne des ratios financiers par secteur\n",
    "sector_ratios = df.groupby('Sector')[[\"Current Ratio\", \"Debt/Equity Ratio\", \"Net Profit Margin\", \n",
    "        \"ROE - Return On Equity\"]].mean().sort_values(by='Current Ratio', ascending=True)\n",
    "\n",
    "# Visualisation avec heatmap\n",
    "sns.heatmap(sector_ratios, annot=True, cmap='coolwarm')\n",
    "plt.title(\"Moyennes des ratios financiers par secteur :\")\n",
    "plt.show()"
   ]
  },
  {
   "cell_type": "code",
   "execution_count": null,
   "id": "e855208d",
   "metadata": {},
   "outputs": [],
   "source": [
    "#Etude des outliers par secteur\n",
    "outlier_summary = []\n",
    "\n",
    "for sector in sectors:\n",
    "    sector_data = df[df[\"Sector\"] == sector]\n",
    "    \n",
    "    for ratio in [\"Current Ratio\", \"Debt/Equity Ratio\", \"Net Profit Margin\", \"ROE - Return On Equity\"]:\n",
    "        Q1 = sector_data[ratio].quantile(0.25)\n",
    "        Q3 = sector_data[ratio].quantile(0.75)\n",
    "        IQR = Q3 - Q1\n",
    "        outliers = sector_data[(sector_data[ratio] < (Q1 - 1.5 * IQR)) | \n",
    "                               (sector_data[ratio] > (Q3 + 1.5 * IQR))]\n",
    "        count_outliers = outliers.shape[0]\n",
    "        pourcentage = round((count_outliers / sector_data.shape[0]) * 100, 2)\n",
    "\n",
    "        outlier_summary.append({\n",
    "            \"Sector\": sector,\n",
    "            \"Ratio\": ratio,\n",
    "            \"Nombre d'outliers\": count_outliers,\n",
    "            \"% d'outliers\": pourcentage})\n",
    "\n",
    "#Tableau\n",
    "outlier_df = pd.DataFrame(outlier_summary)\n",
    "outlier_df"
   ]
  },
  {
   "cell_type": "code",
   "execution_count": null,
   "id": "7e2f6f44",
   "metadata": {},
   "outputs": [],
   "source": [
    "#Médiane des ratios financiers par secteur\n",
    "sector_ratios_median = df.groupby('Sector')[[\"Current Ratio\", \"Debt/Equity Ratio\", \"Net Profit Margin\", \n",
    "        \"ROE - Return On Equity\"]].median().sort_values(by='Current Ratio', ascending=True)\n",
    "\n",
    "# Visualisation avec heatmap\n",
    "sns.heatmap(sector_ratios_median, annot=True, cmap='coolwarm')\n",
    "plt.title(\"Médianes des ratios financiers par secteur :\")\n",
    "plt.show()"
   ]
  },
  {
   "cell_type": "code",
   "execution_count": null,
   "id": "c1b395f8",
   "metadata": {},
   "outputs": [],
   "source": [
    "#Winsorisation des ratios financiers pour réduire l'impact des valeurs extrêmes\n",
    "#Importation de la fonction de winsorisation\n",
    "from scipy.stats.mstats import winsorize\n",
    "\n",
    "#Copie de df pour la winsorisation\n",
    "df_winsorized = df.copy()\n",
    "\n",
    "#Liste des ratios financiers à winsoriser\n",
    "ratios = [\"Current Ratio\", \"Debt/Equity Ratio\", \"Net Profit Margin\", \"ROE - Return On Equity\"]\n",
    "\n",
    "#Moyennes par secteur avant winsorisation\n",
    "sector_means_before = df.groupby(\"Sector\")[ratios].mean()\n",
    "\n",
    "#Winsorisation (on limite les valeurs extrêmes aux 5ème et 95ème percentiles)\n",
    "for ratio in ratios:\n",
    "    lower = 0.05 \n",
    "    upper = 0.05  \n",
    "    df_winsorized[ratio] = winsorize(df[ratio], limits=(lower, upper))\n",
    "\n",
    "#Moyennes par secteur après winsorisation\n",
    "sector_means_after = df_winsorized.groupby(\"Sector\")[ratios].mean()\n",
    "\n",
    "#Visualisation des moyennes avant winsorisation\n",
    "sns.heatmap(sector_means_before, annot=True, cmap=\"coolwarm\")\n",
    "plt.title(\"Moyennes des ratios financiers par secteur (Avant Winsorisation)\")\n",
    "plt.show()\n",
    "\n",
    "#Visualisation des moyennes après winsorisation\n",
    "sns.heatmap(sector_means_after, annot=True, cmap=\"coolwarm\")\n",
    "plt.title(\"Moyennes des ratios financiers par secteur (Après Winsorisation)\")\n",
    "plt.show()"
   ]
  },
  {
   "cell_type": "code",
   "execution_count": null,
   "id": "76a2bba4",
   "metadata": {
    "lines_to_next_cell": 0
   },
   "outputs": [],
   "source": [
    "#SCORE RISQUE "
   ]
  },
  {
   "cell_type": "code",
   "execution_count": null,
   "id": "4b23ff2b",
   "metadata": {},
   "outputs": [],
   "source": [
    "#Création du score risque entreprise\n",
    "#Calcul de la corrélation entre les ratios et la notation\n",
    "correlations = df[[\"Rating_Score\", \"Current Ratio\", \"Debt/Equity Ratio\", \n",
    "                   \"Net Profit Margin\", \"ROE - Return On Equity\"]].corr()\n",
    "\n",
    "#Corrélations avec Rating_score \n",
    "correlation_rating = correlations[\"Rating_Score\"].drop(\"Rating_Score\")\n",
    "print(correlation_rating)"
   ]
  },
  {
   "cell_type": "code",
   "execution_count": null,
   "id": "1a5b41bd",
   "metadata": {},
   "outputs": [],
   "source": [
    "#Poids du ratio sur le rating en valeur absolue pour éviter les effets de signe\n",
    "weights = correlation_rating.abs() / correlation_rating.abs().sum()\n",
    "\n",
    "print(\"Poids des ratios basés sur leur corrélation avec la notation :\")\n",
    "print(weights)"
   ]
  },
  {
   "cell_type": "code",
   "execution_count": null,
   "id": "72c44f2e",
   "metadata": {},
   "outputs": [],
   "source": [
    "#Calcul du score de risque pondéré\n",
    "df[\"Risk_Score\"] = (\n",
    "    df[\"Current Ratio\"] * weights[\"Current Ratio\"] +\n",
    "    df[\"Debt/Equity Ratio\"] * weights[\"Debt/Equity Ratio\"] +\n",
    "    df[\"Net Profit Margin\"] * weights[\"Net Profit Margin\"] +\n",
    "    df[\"ROE - Return On Equity\"] * weights[\"ROE - Return On Equity\"]\n",
    ")\n",
    "\n",
    "print(df[[\"Corporation\", \"Risk_Score\"]].head())"
   ]
  },
  {
   "cell_type": "code",
   "execution_count": null,
   "id": "6f5f19f5",
   "metadata": {},
   "outputs": [],
   "source": [
    "df[\"Risk_Score\"].describe()"
   ]
  },
  {
   "cell_type": "code",
   "execution_count": null,
   "id": "413fad17",
   "metadata": {},
   "outputs": [],
   "source": [
    "#Distribution des scores de risque \n",
    "plt.figure(figsize=(10, 6))\n",
    "sns.histplot(df[\"Risk_Score\"], bins=30, kde=True, color=\"blue\")\n",
    "plt.title(\"Distribution des scores de risque\")\n",
    "plt.xlabel(\"Score de risque\")\n",
    "plt.ylabel(\"Fréquence\")\n",
    "plt.grid(True)\n",
    "plt.show()"
   ]
  },
  {
   "cell_type": "code",
   "execution_count": null,
   "id": "2a7ecdfe",
   "metadata": {},
   "outputs": [],
   "source": [
    "#Classification du Risk_Score\n",
    "q1 = df[\"Risk_Score\"].quantile(0.25)\n",
    "q3 = df[\"Risk_Score\"].quantile(0.75)\n",
    "\n",
    "def classify_risk(score):\n",
    "    if score <= q1:\n",
    "        return \"Low\"\n",
    "    elif score <= q3:\n",
    "        return \"Moderate\"\n",
    "    else:\n",
    "        return \"High\"\n",
    "\n",
    "df[\"Risk_Category\"] = df[\"Risk_Score\"].apply(classify_risk)\n",
    "\n",
    "print(df[[\"Corporation\", \"Risk_Score\", \"Risk_Category\"]].head())"
   ]
  },
  {
   "cell_type": "code",
   "execution_count": null,
   "id": "d613e8a8",
   "metadata": {
    "lines_to_next_cell": 0
   },
   "outputs": [],
   "source": [
    "#Création du score risque secteur (Normalisé)"
   ]
  },
  {
   "cell_type": "code",
   "execution_count": null,
   "id": "d324521c",
   "metadata": {},
   "outputs": [],
   "source": [
    "#Importation du Min-Max Scaler pour la normalisation\n",
    "from sklearn.preprocessing import MinMaxScaler\n",
    "\n",
    "#Création du scaler\n",
    "scaler = MinMaxScaler()"
   ]
  },
  {
   "cell_type": "code",
   "execution_count": null,
   "id": "ce05189d",
   "metadata": {},
   "outputs": [],
   "source": [
    "#Calcul des médianes des ratios par secteur\n",
    "sector_medians = df.groupby(\"Sector\")[ratios].median()\n",
    "\n",
    "print(sector_medians)\n",
    "\n",
    "#Normalisation des médianes sectorielles\n",
    "sector_medians_normalized = sector_medians.copy()\n",
    "sector_medians_normalized[ratios] = scaler.fit_transform(sector_medians[ratios])\n",
    "\n",
    "print(sector_medians_normalized)"
   ]
  },
  {
   "cell_type": "code",
   "execution_count": null,
   "id": "ba5d4b5a",
   "metadata": {},
   "outputs": [],
   "source": [
    "#Création des colonnes médiane des ratios \n",
    "for ratio in ratios:\n",
    "    df[f\"{ratio}_Sector_Median\"] = df[\"Sector\"].map(sector_medians[ratio])\n",
    "\n",
    "#Vérification des nouvelles colonnes\n",
    "df[[\"Corporation\", \"Sector\", \"Current Ratio_Sector_Median\", \n",
    "    \"Debt/Equity Ratio_Sector_Median\",\"Net Profit Margin_Sector_Median\",\n",
    "    \"ROE - Return On Equity_Sector_Median\"]].head(20)"
   ]
  },
  {
   "cell_type": "code",
   "execution_count": null,
   "id": "8ea6db2c",
   "metadata": {},
   "outputs": [],
   "source": [
    "#Calcul de la notation moyenne (médiane) par secteur\n",
    "sector_medians_normalized[\"Rating_Score\"] = df.groupby(\"Sector\")[\"Rating_Score\"].median()\n",
    "\n",
    "print(sector_medians_normalized)"
   ]
  },
  {
   "cell_type": "code",
   "execution_count": null,
   "id": "0aec823d",
   "metadata": {},
   "outputs": [],
   "source": [
    "#Corrélations entre les ratios et la notation moyenne\n",
    "sector_correlations = sector_medians_normalized.corr()[\"Rating_Score\"].drop(\"Rating_Score\")\n",
    "\n",
    "print(sector_correlations)"
   ]
  },
  {
   "cell_type": "code",
   "execution_count": null,
   "id": "1a13540c",
   "metadata": {},
   "outputs": [],
   "source": [
    "#Poids du ratio sur le rating en valeur absolue\n",
    "sector_weights = sector_correlations.abs() / sector_correlations.abs().sum()\n",
    "\n",
    "print(\"Poids des ratios basés sur leur corrélation avec la notation :\")\n",
    "print(sector_weights)"
   ]
  },
  {
   "cell_type": "code",
   "execution_count": null,
   "id": "4053e857",
   "metadata": {},
   "outputs": [],
   "source": [
    "#Calcul score de risque pour les secteurs\n",
    "sector_medians_normalized[\"Sector_Risk_Score\"] = (\n",
    "    sector_medians_normalized[\"Current Ratio\"] * sector_weights[\"Current Ratio\"] +\n",
    "    sector_medians_normalized[\"Debt/Equity Ratio\"] * sector_weights[\"Debt/Equity Ratio\"] +\n",
    "    sector_medians_normalized[\"Net Profit Margin\"] * sector_weights[\"Net Profit Margin\"] +\n",
    "    sector_medians_normalized[\"ROE - Return On Equity\"] * sector_weights[\"ROE - Return On Equity\"]\n",
    ").round(3)\n",
    "\n",
    "print(sector_medians_normalized[[\"Sector_Risk_Score\"]])"
   ]
  },
  {
   "cell_type": "code",
   "execution_count": null,
   "id": "80c9513d",
   "metadata": {},
   "outputs": [],
   "source": [
    "# Visualisation des scores sectoriels\n",
    "plt.figure(figsize=(12, 6))\n",
    "sector_medians_normalized[\"Sector_Risk_Score\"].sort_values().plot(kind=\"bar\", color=\"skyblue\")\n",
    "plt.title(\"Scores de risque par secteur (basés sur les médianes normalisées)\")\n",
    "plt.xlabel(\"Secteur\")\n",
    "plt.ylabel(\"Score de risque\")\n",
    "plt.grid(True)\n",
    "plt.show()"
   ]
  },
  {
   "cell_type": "code",
   "execution_count": null,
   "id": "8da65502",
   "metadata": {},
   "outputs": [],
   "source": [
    "#Normalisation des ratios financiers des entreprises\n",
    "df_normalized = df.copy()\n",
    "df_normalized[ratios] = scaler.fit_transform(df[ratios])\n",
    "\n",
    "#Calcul du score de risque pour les entreprises (normalisé)\n",
    "df_normalized[\"Risk_Score\"] = (\n",
    "    df_normalized[\"Current Ratio\"] * sector_weights[\"Current Ratio\"] +\n",
    "    df_normalized[\"Debt/Equity Ratio\"] * sector_weights[\"Debt/Equity Ratio\"] +\n",
    "    df_normalized[\"Net Profit Margin\"] * sector_weights[\"Net Profit Margin\"] +\n",
    "    df_normalized[\"ROE - Return On Equity\"] * sector_weights[\"ROE - Return On Equity\"]\n",
    ").round(3)\n",
    "\n",
    "print(df_normalized[[\"Corporation\", \"Risk_Score\"]].head())"
   ]
  },
  {
   "cell_type": "code",
   "execution_count": null,
   "id": "ffab4659",
   "metadata": {},
   "outputs": [],
   "source": [
    "#Classification du Risk_Score\n",
    "q1 = df_normalized[\"Risk_Score\"].quantile(0.25)\n",
    "q3 = df_normalized[\"Risk_Score\"].quantile(0.75)\n",
    "\n",
    "def classify_risk(score):\n",
    "    if score <= q1:\n",
    "        return \"Low\"\n",
    "    elif score <= q3:\n",
    "        return \"Moderate\"\n",
    "    else:\n",
    "        return \"High\"\n",
    "\n",
    "df_normalized[\"Risk_Category\"] = df_normalized[\"Risk_Score\"].apply(classify_risk)\n",
    "\n",
    "print(df_normalized[[\"Corporation\", \"Risk_Score\", \"Risk_Category\"]].head())"
   ]
  },
  {
   "cell_type": "code",
   "execution_count": null,
   "id": "096c80ce",
   "metadata": {},
   "outputs": [],
   "source": [
    "#Comparaison des scores de risque\n",
    "#Ajout des scores de risque sectoriels à df_normalized\n",
    "df_normalized = pd.merge(df_normalized, sector_medians_normalized[[\"Sector_Risk_Score\"]], \n",
    "                         left_on=\"Sector\", right_index=True)\n",
    "\n",
    "df_normalized[\"Risk_Comparaison\"] = df_normalized[\"Risk_Score\"] - df_normalized[\"Sector_Risk_Score\"]"
   ]
  },
  {
   "cell_type": "code",
   "execution_count": null,
   "id": "3f5f0d5e",
   "metadata": {},
   "outputs": [],
   "source": [
    "# Indicateur de performance par rapport au secteur\n",
    "df_normalized[\"Performance_vs_Sector\"] = df_normalized[\"Risk_Comparaison\"].apply(lambda x: \"Au-dessus\" if x > 0 else \"En-dessous\")"
   ]
  },
  {
   "cell_type": "code",
   "execution_count": null,
   "id": "14ff5c0d",
   "metadata": {},
   "outputs": [],
   "source": [
    "#Ratios financiers normalisés \n",
    "print(\"Ratios normalisés :\")\n",
    "print(df_normalized[ratios].head())"
   ]
  },
  {
   "cell_type": "code",
   "execution_count": null,
   "id": "5275cea7",
   "metadata": {},
   "outputs": [],
   "source": [
    "#Calcul de la corrélation entre les ratios normalisés et le Rating_Score\n",
    "correlations_norm = df_normalized[[\"Rating_Score\"] + ratios].corr()\n",
    "#Corrélations avec Rating_Score\n",
    "correlation_rating_norm = correlations_norm[\"Rating_Score\"].drop(\"Rating_Score\")\n",
    "print(\"Corrélations avec Rating_Score :\")\n",
    "print(correlation_rating_norm)\n",
    "\n",
    "#Calcul des poids des ratios (en valeur absolue pour éviter les effets de signe)\n",
    "weights2 = correlation_rating_norm.abs() / correlation_rating_norm.abs().sum()\n",
    "print(\"Poids des ratios basés sur leur corrélation avec la notation :\")\n",
    "print(weights2)"
   ]
  },
  {
   "cell_type": "code",
   "execution_count": null,
   "id": "190120e0",
   "metadata": {},
   "outputs": [],
   "source": [
    "#Poids ajusté avec Investment Grade (0.3 fixé pour l'importance de l'Investment Grade)\n",
    "investment_grade_weight = 0.3  \n",
    "weights_adjusted = weights2 * (1 - investment_grade_weight)  \n",
    "\n",
    "print(\"Poids ajustés des ratios :\")\n",
    "print(weights_adjusted)"
   ]
  },
  {
   "cell_type": "code",
   "execution_count": null,
   "id": "f658a605",
   "metadata": {},
   "outputs": [],
   "source": [
    "#Calcul du score de risque ajusté\n",
    "df_normalized[\"Risk_Score_Improved\"] = (\n",
    "    df_normalized[\"Current Ratio\"] * weights_adjusted[\"Current Ratio\"] +\n",
    "    df_normalized[\"Debt/Equity Ratio\"] * weights_adjusted[\"Debt/Equity Ratio\"] +\n",
    "    df_normalized[\"Net Profit Margin\"] * weights_adjusted[\"Net Profit Margin\"] +\n",
    "    df_normalized[\"ROE - Return On Equity\"] * weights_adjusted[\"ROE - Return On Equity\"] +\n",
    "    df_normalized[\"Investment Grade\"] * investment_grade_weight)\n",
    "\n",
    "print(\"Nouveau score de risque calculé :\")\n",
    "print(df_normalized[[\"Corporation\", \"Risk_Score_Improved\"]].head())"
   ]
  },
  {
   "cell_type": "code",
   "execution_count": null,
   "id": "9fbd9091",
   "metadata": {},
   "outputs": [],
   "source": [
    "#Statistiques descriptives\n",
    "print(df_normalized[\"Risk_Score_Improved\"].describe())"
   ]
  },
  {
   "cell_type": "code",
   "execution_count": null,
   "id": "20c55afc",
   "metadata": {},
   "outputs": [],
   "source": [
    "#Calcul du score de risque pour les entreprises (normalisé)\n",
    "df_normalized[\"Risk_Score\"] = (\n",
    "    df_normalized[\"Current Ratio\"] * weights2[\"Current Ratio\"] +\n",
    "    df_normalized[\"Debt/Equity Ratio\"] * weights2[\"Debt/Equity Ratio\"] +\n",
    "    df_normalized[\"Net Profit Margin\"] * weights2[\"Net Profit Margin\"] +\n",
    "    df_normalized[\"ROE - Return On Equity\"] * weights2[\"ROE - Return On Equity\"]\n",
    ").round(3)\n",
    "print(df_normalized[[\"Corporation\", \"Risk_Score\"]].head())"
   ]
  },
  {
   "cell_type": "code",
   "execution_count": null,
   "id": "3bad7a35",
   "metadata": {},
   "outputs": [],
   "source": [
    "#Comparaison des distributions des scores\n",
    "plt.figure(figsize=(12, 6))\n",
    "sns.histplot(df_normalized[\"Risk_Score\"], bins=30, kde=True, color=\"blue\", label=\"Ancien Risk Score\", alpha=0.6)\n",
    "sns.histplot(df_normalized[\"Risk_Score_Improved\"], bins=30, kde=True, color=\"green\", label=\"Nouveau Risk Score\", alpha=0.6)\n",
    "plt.title(\"Comparaison des distributions des scores de risque\")\n",
    "plt.xlabel(\"Score de risque\")\n",
    "plt.ylabel(\"Fréquence\")\n",
    "plt.legend()\n",
    "plt.grid(True)\n",
    "plt.show()"
   ]
  },
  {
   "cell_type": "code",
   "execution_count": null,
   "id": "3dceb556",
   "metadata": {},
   "outputs": [],
   "source": [
    "#Visualisation de la distribution des deux scores\n",
    "plt.figure(figsize=(12, 6))\n",
    "sns.histplot(df_normalized[\"Risk_Score_Improved\"], bins=30, kde=True, color=\"green\", label=\"Nouveau Risk Score\", alpha=0.6)\n",
    "plt.title(\"Comparaison des distributions des scores de risque\")\n",
    "plt.xlabel(\"Score de risque\")\n",
    "plt.ylabel(\"Fréquence\")\n",
    "plt.legend()\n",
    "plt.grid(True)\n",
    "plt.show()\n",
    "\n",
    "plt.figure(figsize=(12, 6))\n",
    "sns.histplot(df[\"Risk_Score\"], bins=30, kde=True, color=\"blue\", label=\"Ancien Risk Score\", alpha=0.6)\n",
    "plt.title(\"Comparaison des distributions des scores de risque\")\n",
    "plt.xlabel(\"Score de risque\")\n",
    "plt.ylabel(\"Fréquence\")\n",
    "plt.legend()\n",
    "plt.grid(True)\n",
    "plt.show()"
   ]
  },
  {
   "cell_type": "code",
   "execution_count": null,
   "id": "a5473ab1",
   "metadata": {},
   "outputs": [],
   "source": [
    "#Corrélation entre les deux scores\n",
    "correlation = df[\"Risk_Score\"].corr(df_normalized[\"Risk_Score_Improved\"])\n",
    "print(f\"Corrélation entre l'ancien et le nouveau score : {correlation:.2f}\")\n",
    "\n",
    "correlation\n",
    "\n",
    "#Écart moyen entre les deux scores\n",
    "mean_difference = (df_normalized[\"Risk_Score_Improved\"] - df[\"Risk_Score\"]).mean()\n",
    "print(f\"Écart moyen entre les deux scores : {mean_difference:.2f}\")"
   ]
  },
  {
   "cell_type": "code",
   "execution_count": null,
   "id": "b48c8905",
   "metadata": {},
   "outputs": [],
   "source": [
    "#Répartition des scores par catégorie de risk\n",
    "plt.figure(figsize=(10, 6))\n",
    "sns.boxplot(x=\"Risk_Category\", y=\"Risk_Score_Improved\", data=df_normalized, palette=\"coolwarm\")\n",
    "plt.title(\"Répartition des scores de risque par catégorie\")\n",
    "plt.xlabel(\"Catégorie de risque\")\n",
    "plt.ylabel(\"Score de risque\")\n",
    "plt.grid(True)\n",
    "plt.show()"
   ]
  },
  {
   "cell_type": "code",
   "execution_count": null,
   "id": "14f2998c",
   "metadata": {
    "lines_to_next_cell": 0
   },
   "outputs": [],
   "source": [
    "#MACHINE LEARNING "
   ]
  },
  {
   "cell_type": "code",
   "execution_count": null,
   "id": "0b6fe25c",
   "metadata": {},
   "outputs": [],
   "source": [
    "#Validation croisée pour évaluer la robustesse des pondérations\n",
    "#Importation des bibliothèque \n",
    "from sklearn.model_selection import KFold\n",
    "from sklearn.linear_model import LinearRegression\n",
    "from sklearn.metrics import mean_squared_error, r2_score\n",
    "from math import sqrt"
   ]
  },
  {
   "cell_type": "code",
   "execution_count": null,
   "id": "1d1a945b",
   "metadata": {},
   "outputs": [],
   "source": [
    "#X: ratios normalisés Y: Notation format numérique\n",
    "X = df_normalized[ratios]\n",
    "y = df[\"Rating_Score\"]\n",
    "\n",
    "X.columns"
   ]
  },
  {
   "cell_type": "code",
   "execution_count": null,
   "id": "bfb16704",
   "metadata": {},
   "outputs": [],
   "source": [
    "#Initialiser le modèle KFold pour la validation croisée avec 5 plis\n",
    "kf = KFold(n_splits=5, shuffle=True, random_state=42)\n",
    "mse_errors = []\n",
    "rmse_errors = []\n",
    "r2_scores = []\n",
    "\n",
    "for train_index, test_index in kf.split(X):\n",
    "    #Séparer les données en ensembles d'entraînement et de test\n",
    "    X_train, X_test = X.iloc[train_index], X.iloc[test_index]\n",
    "    y_train, y_test = y.iloc[train_index], y.iloc[test_index]\n",
    "    \n",
    "    #Modèle de régression linéaire\n",
    "    model = LinearRegression()\n",
    "    model.fit(X_train, y_train)\n",
    "    \n",
    "    #Prédictions sur l'ensemble de test\n",
    "    y_pred = model.predict(X_test)\n",
    "    \n",
    "    #Calcul des métriques de performance \n",
    "    mse = mean_squared_error(y_test, y_pred)\n",
    "    rmse = sqrt(mse)\n",
    "    r2 = r2_score(y_test, y_pred)\n",
    "\n",
    "    #Résultats\n",
    "    mse_errors.append(mse)\n",
    "    rmse_errors.append(rmse)\n",
    "    r2_scores.append(r2)\n",
    "\n",
    "#Résultats de la validation croisée\n",
    "print(\"\\nValidation croisée (Régression linéaire) :\")\n",
    "print(f\"Erreur quadratique moyenne (MSE) moyenne : {np.mean(mse_errors):.4f}\")\n",
    "print(f\"Écart-type du MSE : {np.std(mse_errors):.4f}\")\n",
    "print(f\"Erreur quadratique moyenne racine (RMSE) moyenne : {np.mean(rmse_errors):.4f}\")\n",
    "print(f\"Écart-type du RMSE : {np.std(rmse_errors):.4f}\")\n",
    "print(f\"R² moyen : {np.mean(r2_scores):.4f}\")\n",
    "print(f\"Écart-type du R² : {np.std(r2_scores):.4f}\")"
   ]
  },
  {
   "cell_type": "code",
   "execution_count": null,
   "id": "89b86c4e",
   "metadata": {},
   "outputs": [],
   "source": [
    "#Importation de l'arbre de décision\n",
    "from sklearn.tree import DecisionTreeRegressor\n",
    "\n",
    "#Initialiser la validation croisée avec 5 plis\n",
    "kf = KFold(n_splits=5, shuffle=True, random_state=42)\n",
    "mse_errors_tree = []\n",
    "rmse_errors_tree = []\n",
    "r2_scores_tree = []\n",
    "\n",
    "#Modèle d'arbre de décision\n",
    "tree_model = DecisionTreeRegressor(random_state=42, max_depth=5)  # Vous pouvez ajuster max_depth pour éviter l'overfitting\n",
    "\n",
    "for train_index, test_index in kf.split(X):\n",
    "    #Diviser les données en ensembles d'entraînement et de test\n",
    "    X_train, X_test = X.iloc[train_index], X.iloc[test_index]\n",
    "    y_train, y_test = y.iloc[train_index], y.iloc[test_index]\n",
    "    \n",
    "    #Entraîner le modèle d'arbre de décision\n",
    "    tree_model.fit(X_train, y_train)\n",
    "    \n",
    "    #Prédictions sur l'ensemble de test\n",
    "    y_pred_tree = tree_model.predict(X_test)\n",
    "    \n",
    "    #Calcul des métriques\n",
    "    mse_tree = mean_squared_error(y_test, y_pred_tree)\n",
    "    rmse_tree = sqrt(mse_tree)\n",
    "    r2_tree = r2_score(y_test, y_pred_tree)\n",
    "    \n",
    "    #Résultats\n",
    "    mse_errors_tree.append(mse_tree)\n",
    "    rmse_errors_tree.append(rmse_tree)\n",
    "    r2_scores_tree.append(r2_tree)\n",
    "\n",
    "#Résultats de la validation croisée pour l'arbre de décision\n",
    "print(\"\\nValidation croisée (Arbre de décision) :\")\n",
    "print(f\"Erreur quadratique moyenne (MSE) moyenne : {np.mean(mse_errors_tree):.4f}\")\n",
    "print(f\"Écart-type du MSE : {np.std(mse_errors_tree):.4f}\")\n",
    "print(f\"Erreur quadratique moyenne racine (RMSE) moyenne : {np.mean(rmse_errors_tree):.4f}\")\n",
    "print(f\"Écart-type du RMSE : {np.std(rmse_errors_tree):.4f}\")\n",
    "print(f\"R² moyen : {np.mean(r2_scores_tree):.4f}\")\n",
    "print(f\"Écart-type du R² : {np.std(r2_scores_tree):.4f}\")"
   ]
  },
  {
   "cell_type": "code",
   "execution_count": null,
   "id": "2a7e6ac4",
   "metadata": {},
   "outputs": [],
   "source": [
    "#DécisionTree plus performant mais légèrement moins stable "
   ]
  },
  {
   "cell_type": "code",
   "execution_count": null,
   "id": "27b1b9d5",
   "metadata": {
    "lines_to_next_cell": 0
   },
   "outputs": [],
   "source": [
    "#Importance des variables\n",
    "importances = tree_model.feature_importances_\n",
    "\n",
    "#Création d'une série pandas pour l'affichage\n",
    "feature_importance = pd.Series(importances, index=X.columns)\n",
    "\n",
    "#Trier les variables par importance décroissante\n",
    "feature_importance = feature_importance.sort_values(ascending=True)\n",
    "\n",
    "#Affichage avec un graphique horizontal\n",
    "plt.figure(figsize=(10, 6))\n",
    "feature_importance.plot(kind='barh', color='steelblue')\n",
    "plt.title(\"Importance des variables (Arbre de décision)\")\n",
    "plt.xlabel(\"Score d'importance\")\n",
    "plt.tight_layout()\n",
    "plt.show()"
   ]
  },
  {
   "cell_type": "code",
   "execution_count": null,
   "id": "fa3dfd10",
   "metadata": {},
   "outputs": [],
   "source": [
    "df.columns "
   ]
  },
  {
   "cell_type": "code",
   "execution_count": null,
   "id": "3798522b",
   "metadata": {
    "lines_to_next_cell": 0
   },
   "outputs": [],
   "source": [
    "#Ajout de ratios\n",
    "ratios_all = [\"Current Ratio\", \"Debt/Equity Ratio\", \"Net Profit Margin\",\n",
    "              \"ROE - Return On Equity\", \"EBITDA Margin\", \"Gross Margin\",\n",
    "                \"Long-term Debt / Capital\", \"Asset Turnover\", \"ROA - Return On Assets\",\n",
    "                \"Operating Margin\"]\n",
    "#Sélectionner les ratios normalisés\n",
    "df_normalized[ratios_all] = scaler.fit_transform(df[ratios_all])\n",
    "\n",
    "df_normalized[ratios_all].head()"
   ]
  },
  {
   "cell_type": "code",
   "execution_count": null,
   "id": "33af81c0",
   "metadata": {
    "title": "Ajouts de ratios combinés"
   },
   "outputs": [],
   "source": [
    "#X: ratios normalisés Y: Notation format numérique\n",
    "X = df_normalized[ratios_all]\n",
    "y = df[\"Rating_Score\"]\n",
    "\n",
    "#Création ratios combinés\n",
    "    #ROE pondérée par la marge nette \n",
    "X[\"ROE_x_NetProfitMargin\"] = X[\"ROE - Return On Equity\"] * X[\"Net Profit Margin\"]\n",
    "    #Endettement ajusté à la rentabilité\n",
    "X[\"DebtEquity_x_ROA\"] = X[\"Debt/Equity Ratio\"] * X[\"ROA - Return On Assets\"]\n",
    "    #Rentabilité opérationnelle vs efficacité des actifs\n",
    "X[\"EBITDAmargin_x_ROA\"] = X[\"EBITDA Margin\"] * X[\"ROA - Return On Assets\"]\n",
    "\n",
    "X.columns "
   ]
  },
  {
   "cell_type": "code",
   "execution_count": null,
   "id": "50bcfaa1",
   "metadata": {},
   "outputs": [],
   "source": [
    "#Initialiser le modèle KFold pour la validation croisée avec 5 plis\n",
    "kf = KFold(n_splits=5, shuffle=True, random_state=42)\n",
    "mse_errors = []\n",
    "rmse_errors = []\n",
    "r2_scores = []\n",
    "\n",
    "for train_index, test_index in kf.split(X):\n",
    "    #Séparer les données en ensembles d'entraînement et de test\n",
    "    X_train, X_test = X.iloc[train_index], X.iloc[test_index]\n",
    "    y_train, y_test = y.iloc[train_index], y.iloc[test_index]\n",
    "    \n",
    "    #Modèle de régression linéaire\n",
    "    model = LinearRegression()\n",
    "    model.fit(X_train, y_train)\n",
    "    \n",
    "    #Prédictions sur l'ensemble de test\n",
    "    y_pred = model.predict(X_test)\n",
    "    \n",
    "    #Calcul des métriques de performance \n",
    "    mse = mean_squared_error(y_test, y_pred)\n",
    "    rmse = sqrt(mse)\n",
    "    r2 = r2_score(y_test, y_pred)\n",
    "\n",
    "    #Résultats\n",
    "    mse_errors.append(mse)\n",
    "    rmse_errors.append(rmse)\n",
    "    r2_scores.append(r2)\n",
    "\n",
    "#Résultats de la validation croisée\n",
    "print(\"Validation croisée (Régression linéaire):\")\n",
    "print(f\"Erreur quadratique moyenne (MSE) moyenne : {np.mean(mse_errors):.4f}\")\n",
    "print(f\"Écart-type du MSE : {np.std(mse_errors):.4f}\")\n",
    "print(f\"Erreur quadratique moyenne racine (RMSE) moyenne : {np.mean(rmse_errors):.4f}\")\n",
    "print(f\"Écart-type du RMSE : {np.std(rmse_errors):.4f}\")\n",
    "print(f\"R² moyen : {np.mean(r2_scores):.4f}\")\n",
    "print(f\"Écart-type du R² : {np.std(r2_scores):.4f}\")"
   ]
  },
  {
   "cell_type": "code",
   "execution_count": null,
   "id": "3e25e555",
   "metadata": {},
   "outputs": [],
   "source": [
    "#Importation de l'arbre de décision\n",
    "from sklearn.tree import DecisionTreeRegressor\n",
    "\n",
    "#Initialiser la validation croisée avec 5 plis\n",
    "kf = KFold(n_splits=5, shuffle=True, random_state=42)\n",
    "mse_errors_tree = []\n",
    "rmse_errors_tree = []\n",
    "r2_scores_tree = []\n",
    "\n",
    "#Modèle d'arbre de décision\n",
    "tree_model = DecisionTreeRegressor(random_state=42, max_depth=5)  # Vous pouvez ajuster max_depth pour éviter l'overfitting\n",
    "\n",
    "for train_index, test_index in kf.split(X):\n",
    "    #Diviser les données en ensembles d'entraînement et de test\n",
    "    X_train, X_test = X.iloc[train_index], X.iloc[test_index]\n",
    "    y_train, y_test = y.iloc[train_index], y.iloc[test_index]\n",
    "    \n",
    "    #Entraîner le modèle d'arbre de décision\n",
    "    tree_model.fit(X_train, y_train)\n",
    "    \n",
    "    #Prédictions sur l'ensemble de test\n",
    "    y_pred_tree = tree_model.predict(X_test)\n",
    "    \n",
    "    #Calcul des métriques\n",
    "    mse_tree = mean_squared_error(y_test, y_pred_tree)\n",
    "    rmse_tree = sqrt(mse_tree)\n",
    "    r2_tree = r2_score(y_test, y_pred_tree)\n",
    "    \n",
    "    #Résultats\n",
    "    mse_errors_tree.append(mse_tree)\n",
    "    rmse_errors_tree.append(rmse_tree)\n",
    "    r2_scores_tree.append(r2_tree)\n",
    "\n",
    "#Résultats de la validation croisée pour l'arbre de décision\n",
    "print(\"\\nValidation croisée (Arbre de décision) :\")\n",
    "print(f\"Erreur quadratique moyenne (MSE) moyenne : {np.mean(mse_errors_tree):.4f}\")\n",
    "print(f\"Écart-type du MSE : {np.std(mse_errors_tree):.4f}\")\n",
    "print(f\"Erreur quadratique moyenne racine (RMSE) moyenne : {np.mean(rmse_errors_tree):.4f}\")\n",
    "print(f\"Écart-type du RMSE : {np.std(rmse_errors_tree):.4f}\")\n",
    "print(f\"R² moyen : {np.mean(r2_scores_tree):.4f}\")\n",
    "print(f\"Écart-type du R² : {np.std(r2_scores_tree):.4f}\")"
   ]
  },
  {
   "cell_type": "code",
   "execution_count": null,
   "id": "48898eeb",
   "metadata": {
    "lines_to_next_cell": 0
   },
   "outputs": [],
   "source": [
    "#L'ajout de nouvelles variables  dans X rend le modèle moins pertinent"
   ]
  },
  {
   "cell_type": "code",
   "execution_count": null,
   "id": "07656818",
   "metadata": {
    "title": "Features Importance"
   },
   "outputs": [],
   "source": [
    "#Importance des variables\n",
    "importances = tree_model.feature_importances_\n",
    "\n",
    "#Création d'une série pandas pour l'affichage\n",
    "feature_importance = pd.Series(importances, index=X.columns)\n",
    "\n",
    "#Trier les variables par importance décroissante\n",
    "feature_importance = feature_importance.sort_values(ascending=True)\n",
    "\n",
    "#Affichage avec un graphique horizontal\n",
    "plt.figure(figsize=(10, 6))\n",
    "feature_importance.plot(kind='barh', color='steelblue')\n",
    "plt.title(\"Importance des variables (Arbre de décision)\")\n",
    "plt.xlabel(\"Score d'importance\")\n",
    "plt.tight_layout()\n",
    "plt.show()"
   ]
  },
  {
   "cell_type": "code",
   "execution_count": null,
   "id": "59c260d1",
   "metadata": {
    "title": "Ajout de variables à df avant normalisation"
   },
   "outputs": [],
   "source": [
    "#Inverse le LTD car interprétation inverse \n",
    "df[\"Inverse_Long-term Debt/Capital\"] = 1 / df[\"Long-term Debt / Capital\"]\n",
    "df[\"Inverse_Debt/Equity Ratio\"] = 1 / df[\"Debt/Equity Ratio\"]\n",
    "\n",
    "#Ajout du ROE pondérée par la marge nette dans df\n",
    "df[\"ROE_x_NetProfitMargin\"] = df[\"ROE - Return On Equity\"] * df[\"Net Profit Margin\"]\n",
    "\n",
    "df.columns"
   ]
  },
  {
   "cell_type": "code",
   "execution_count": null,
   "id": "45cdcdb9",
   "metadata": {
    "title": "Réadaptation des variables"
   },
   "outputs": [],
   "source": [
    "ratios_all1 = [\"Current Ratio\", \"Net Profit Margin\", \"ROE - Return On Equity\", \n",
    "               \"EBITDA Margin\", \"Gross Margin\", \"Inverse_Long-term Debt/Capital\", \n",
    "               \"Inverse_Debt/Equity Ratio\", \"ROA - Return On Assets\", \n",
    "               \"Operating Margin\", \"ROE_x_NetProfitMargin\"]\n",
    "\n",
    "#Sélectionner les ratios normalisés \n",
    "df_normalized[ratios_all1] = scaler.fit_transform(df[ratios_all1])\n",
    "\n",
    "df_normalized[ratios_all1].head()"
   ]
  },
  {
   "cell_type": "code",
   "execution_count": null,
   "id": "dd1219fd",
   "metadata": {},
   "outputs": [],
   "source": [
    "#X: ratios normalisés Y: Notation format numérique\n",
    "X = df_normalized[ratios_all1]\n",
    "y = df[\"Rating_Score\"]\n",
    "\n",
    "X.columns"
   ]
  },
  {
   "cell_type": "code",
   "execution_count": null,
   "id": "8cd785a0",
   "metadata": {},
   "outputs": [],
   "source": [
    "#Initialiser la validation croisée avec 5 plis\n",
    "kf = KFold(n_splits=5, shuffle=True, random_state=42)\n",
    "mse_errors_tree = []\n",
    "rmse_errors_tree = []\n",
    "r2_scores_tree = []\n",
    "\n",
    "#Modèle d'arbre de décision\n",
    "tree_model = DecisionTreeRegressor(random_state=42, max_depth=5)  # Vous pouvez ajuster max_depth pour éviter l'overfitting\n",
    "\n",
    "for train_index, test_index in kf.split(X):\n",
    "    #Diviser les données en ensembles d'entraînement et de test\n",
    "    X_train, X_test = X.iloc[train_index], X.iloc[test_index]\n",
    "    y_train, y_test = y.iloc[train_index], y.iloc[test_index]\n",
    "    \n",
    "    #Entraîner le modèle d'arbre de décision\n",
    "    tree_model.fit(X_train, y_train)\n",
    "    \n",
    "    #Prédictions sur l'ensemble de test\n",
    "    y_pred_tree = tree_model.predict(X_test)\n",
    "    \n",
    "    #Calcul des métriques\n",
    "    mse_tree = mean_squared_error(y_test, y_pred_tree)\n",
    "    rmse_tree = sqrt(mse_tree)\n",
    "    r2_tree = r2_score(y_test, y_pred_tree)\n",
    "\n",
    "    #Résultats\n",
    "    mse_errors_tree.append(mse_tree)\n",
    "    rmse_errors_tree.append(rmse_tree)\n",
    "    r2_scores_tree.append(r2_tree)\n",
    "\n",
    "#Résultats de la validation croisée pour l'arbre de décision\n",
    "print(\"\\nValidation croisée (Arbre de décision) :\")\n",
    "print(f\"Erreur quadratique moyenne (MSE) moyenne : {np.mean(mse_errors_tree):.4f}\")\n",
    "print(f\"Écart-type du MSE : {np.std(mse_errors_tree):.4f}\")\n",
    "print(f\"Erreur quadratique moyenne racine (RMSE) moyenne : {np.mean(rmse_errors_tree):.4f}\")\n",
    "print(f\"Écart-type du RMSE : {np.std(rmse_errors_tree):.4f}\")\n",
    "print(f\"R² moyen : {np.mean(r2_scores_tree):.4f}\")\n",
    "print(f\"Écart-type du R² : {np.std(r2_scores_tree):.4f}\")"
   ]
  },
  {
   "cell_type": "code",
   "execution_count": null,
   "id": "34b8810c",
   "metadata": {},
   "outputs": [],
   "source": [
    "#Meilleure performancce globale : baisse du MSE et RMSE, hausse du R²\n",
    "#Modèle plus stable baisse des écarts-types"
   ]
  },
  {
   "cell_type": "code",
   "execution_count": null,
   "id": "f3bb3b10",
   "metadata": {
    "lines_to_next_cell": 0,
    "title": "Modèle de Gradient Boosting"
   },
   "outputs": [],
   "source": [
    "from sklearn.ensemble import GradientBoostingRegressor\n",
    "\n",
    "X.columns"
   ]
  },
  {
   "cell_type": "code",
   "execution_count": null,
   "id": "b5d012fc",
   "metadata": {},
   "outputs": [],
   "source": [
    "#Initialiser la validation croisée avec 5 plis\n",
    "kf = KFold(n_splits=5, shuffle=True, random_state=42)\n",
    "mse_errors_gb = []\n",
    "rmse_errors_gb = []\n",
    "r2_scores_gb = []\n",
    "\n",
    "#Modèle de Gradient Boosting\n",
    "gb_model = GradientBoostingRegressor(random_state=42, n_estimators=100, learning_rate=0.1, max_depth=5)\n",
    "\n",
    "for train_index, test_index in kf.split(X):\n",
    "    #Diviser les données en ensembles d'entraînement et de test\n",
    "    X_train, X_test = X.iloc[train_index], X.iloc[test_index]\n",
    "    y_train, y_test = y.iloc[train_index], y.iloc[test_index]\n",
    "    \n",
    "    #Entraîner le modèle de Gradient Boosting\n",
    "    gb_model.fit(X_train, y_train)\n",
    "    \n",
    "    #Prédictions sur l'ensemble de test\n",
    "    y_pred_gb = gb_model.predict(X_test)\n",
    "    \n",
    "    #Calcul des métriques\n",
    "    mse_gb = mean_squared_error(y_test, y_pred_gb)\n",
    "    rmse_gb = sqrt(mse_gb)\n",
    "    r2_gb = r2_score(y_test, y_pred_gb)\n",
    "    \n",
    "    #Résultats\n",
    "    mse_errors_gb.append(mse_gb)\n",
    "    rmse_errors_gb.append(rmse_gb)\n",
    "    r2_scores_gb.append(r2_gb)\n",
    "\n",
    "#Résultats de la validation croisée pour le Gradient Boosting\n",
    "print(\"\\nValidation croisée (Gradient Boosting) :\")\n",
    "print(f\"Erreur quadratique moyenne (MSE) moyenne : {np.mean(mse_errors_gb):.4f}\")\n",
    "print(f\"Écart-type du MSE : {np.std(mse_errors_gb):.4f}\")\n",
    "print(f\"Erreur quadratique moyenne racine (RMSE) moyenne : {np.mean(rmse_errors_gb):.4f}\")\n",
    "print(f\"Écart-type du RMSE : {np.std(rmse_errors_gb):.4f}\")\n",
    "print(f\"R² moyen : {np.mean(r2_scores_gb):.4f}\")\n",
    "print(f\"Écart-type du R² : {np.std(r2_scores_gb):.4f}\")"
   ]
  },
  {
   "cell_type": "code",
   "execution_count": null,
   "id": "db047401",
   "metadata": {},
   "outputs": [],
   "source": [
    "#GradientBoost : Meilleure performance globale du modèle : baisse du MSE et RMSE, hausse du R²"
   ]
  },
  {
   "cell_type": "code",
   "execution_count": null,
   "id": "d844b99d",
   "metadata": {},
   "outputs": [],
   "source": [
    "#Importance des variables\n",
    "gb_importances = gb_model.feature_importances_\n",
    "\n",
    " #Création d'une série pandas pour l'affichage\n",
    "gb_feature_importance = pd.Series(gb_importances, index=X.columns)\n",
    "\n",
    "#Trier les variables par importance décroissante\n",
    "gb_feature_importance = gb_feature_importance.sort_values(ascending=True)\n",
    "\n",
    "#Affichage avec un graphique horizontal\n",
    "plt.figure(figsize=(10, 6))\n",
    "gb_feature_importance.plot(kind='barh', color='darkorange')\n",
    "plt.title(\"Importance des variables (Gradient Boosting)\")\n",
    "plt.xlabel(\"Score d'importance\")\n",
    "plt.tight_layout()\n",
    "plt.show()"
   ]
  },
  {
   "cell_type": "code",
   "execution_count": null,
   "id": "6c0d4d73",
   "metadata": {
    "title": "Modèle XGBoost"
   },
   "outputs": [],
   "source": [
    "from xgboost import XGBRegressor\n",
    "\n",
    "# Initialiser la validation croisée avec 5 plis\n",
    "kf = KFold(n_splits=5, shuffle=True, random_state=42)\n",
    "mse_errors_xgb = []\n",
    "rmse_errors_xgb = []\n",
    "r2_scores_xgb = []\n",
    "\n",
    "# Modèle XGBoost\n",
    "xgb_model = XGBRegressor(random_state=42, n_estimators=100, learning_rate=0.1, max_depth=5)\n",
    "\n",
    "for train_index, test_index in kf.split(X):\n",
    "    #Diviser les données en ensembles d'entraînement et de test\n",
    "    X_train, X_test = X.iloc[train_index], X.iloc[test_index]\n",
    "    y_train, y_test = y.iloc[train_index], y.iloc[test_index]\n",
    "    \n",
    "    #Entraîner le modèle XGBoost\n",
    "    xgb_model.fit(X_train, y_train)\n",
    "    \n",
    "    #Prédictions sur l'ensemble de test\n",
    "    y_pred_xgb = xgb_model.predict(X_test)\n",
    "    \n",
    "    #Calcul des métriques\n",
    "    mse_xgb = mean_squared_error(y_test, y_pred_xgb)\n",
    "    rmse_xgb = sqrt(mse_xgb)\n",
    "    r2_xgb = r2_score(y_test, y_pred_xgb)\n",
    "    \n",
    "    #Stocker les résultats\n",
    "    mse_errors_xgb.append(mse_xgb)\n",
    "    rmse_errors_xgb.append(rmse_xgb)\n",
    "    r2_scores_xgb.append(r2_xgb)\n",
    "\n",
    "# Résultats de la validation croisée pour XGBoost\n",
    "print(\"\\nValidation croisée (XGBoost) :\")\n",
    "print(f\"Erreur quadratique moyenne (MSE) moyenne : {np.mean(mse_errors_xgb):.4f}\")\n",
    "print(f\"Écart-type du MSE : {np.std(mse_errors_xgb):.4f}\")\n",
    "print(f\"Erreur quadratique moyenne racine (RMSE) moyenne : {np.mean(rmse_errors_xgb):.4f}\")\n",
    "print(f\"Écart-type du RMSE : {np.std(rmse_errors_xgb):.4f}\")\n",
    "print(f\"R² moyen : {np.mean(r2_scores_xgb):.4f}\")\n",
    "print(f\"Écart-type du R² : {np.std(r2_scores_xgb):.4f}\")"
   ]
  },
  {
   "cell_type": "code",
   "execution_count": null,
   "id": "e0196f2f",
   "metadata": {},
   "outputs": [],
   "source": [
    "#GradientBoost légèrement plus performant que XGBoost"
   ]
  },
  {
   "cell_type": "code",
   "execution_count": null,
   "id": "06934525",
   "metadata": {
    "lines_to_next_cell": 0,
    "title": "SCORE RISQUE"
   },
   "outputs": [],
   "source": []
  },
  {
   "cell_type": "code",
   "execution_count": null,
   "id": "5d15a60b",
   "metadata": {
    "lines_to_next_cell": 2,
    "title": "Extraction des pondérations pour SCORE RISQUE"
   },
   "outputs": [],
   "source": [
    "#Importance des variables à partir du modèle Gradient Boosting\n",
    "gb_importances = gb_model.feature_importances_\n",
    "\n",
    "#Création d'une série pandas pour associer les pondérations aux variables\n",
    "weights_new = pd.Series(gb_importances, index=X.columns)\n",
    "#Convertir les pondérations pour avoir une somme de 1\n",
    "weights_new /= weights_new.sum() \n",
    "\n",
    "print(\"Pondérations des variables (Gradient Boosting) :\")\n",
    "print(weights_new)"
   ]
  },
  {
   "cell_type": "code",
   "execution_count": null,
   "id": "7025e09d",
   "metadata": {
    "lines_to_next_cell": 1
   },
   "outputs": [],
   "source": [
    "#Score de risque ajusté avec les nouvelles pondérations\n",
    "df_normalized[\"New_Risk_Score\"] = (df_normalized[X.columns] * weights_new).sum(axis=1)\n",
    "#Arrondis et multiplication pour un score [0;10]\n",
    "df_normalized[\"New_Risk_Score\"] = (df_normalized[\"New_Risk_Score\"] * 10).round(2)\n",
    "\n",
    "print(df_normalized[[\"Corporation\", \"New_Risk_Score\"]].head())"
   ]
  },
  {
   "cell_type": "code",
   "execution_count": null,
   "id": "1a5b67bc",
   "metadata": {},
   "outputs": [],
   "source": [
    "#Classification du Risk_Score\n",
    "def classify_risk(score):\n",
    "    if score >= 6:\n",
    "        return \"Very Low\"\n",
    "    elif score >= 5:\n",
    "        return \"Low\"\n",
    "    elif score >= 4.5:\n",
    "        return \"Moderate\"\n",
    "    elif score >= 3.5:\n",
    "        return \"High\"\n",
    "    else:\n",
    "        return \"Very High\"\n",
    "\n",
    "df_normalized[\"Risk_level\"] = df_normalized[\"New_Risk_Score\"].apply(classify_risk)\n",
    "\n",
    "print(df_normalized[[\"Corporation\", \"New_Risk_Score\", \"Risk_level\"]].head())"
   ]
  },
  {
   "cell_type": "code",
   "execution_count": null,
   "id": "a014ba2d",
   "metadata": {
    "title": "Sector risque"
   },
   "outputs": [],
   "source": [
    "#Moyennes des variables par secteur\n",
    "sector_means = df_normalized.groupby(\"Sector\")[X.columns].mean()\n",
    "\n",
    "#Sector Risk Score\n",
    "sector_means[\"SectorRisk_Score\"] = (sector_means[X.columns] * weights_new).sum(axis=1)\n",
    "#Arrondis et multiplication pour un score [0;10]\n",
    "sector_means[\"SectorRisk_Score\"] = (sector_means[\"SectorRisk_Score\"] * 10).round(2)\n",
    "\n",
    "print(sector_means[[\"SectorRisk_Score\"]])"
   ]
  },
  {
   "cell_type": "code",
   "execution_count": null,
   "id": "4d6c6deb",
   "metadata": {},
   "outputs": [],
   "source": [
    "#Ajouter le Sector Risk Score aux données des entreprises\n",
    "df_normalized = pd.merge(df_normalized, sector_means[[\"SectorRisk_Score\"]],\n",
    "    left_on=\"Sector\", right_index=True)\n",
    "\n",
    "df_normalized.columns"
   ]
  },
  {
   "cell_type": "code",
   "execution_count": null,
   "id": "0624279d",
   "metadata": {},
   "outputs": [],
   "source": [
    "#Comparaison entre le Risk Score et le Sector Risk Score\n",
    "df_normalized[\"Risk_Comparaison1\"] = df_normalized[\"New_Risk_Score\"] - df_normalized[\"SectorRisk_Score\"]\n",
    "\n",
    "print(df_normalized[[\"Corporation\", \"New_Risk_Score\", \"SectorRisk_Score\", \"Risk_Comparaison1\"]].head())"
   ]
  },
  {
   "cell_type": "code",
   "execution_count": null,
   "id": "e50d40ec",
   "metadata": {},
   "outputs": [],
   "source": [
    "df_normalized[[\"New_Risk_Score\"]].head(100)"
   ]
  },
  {
   "cell_type": "code",
   "execution_count": null,
   "id": "0f4ea49e",
   "metadata": {
    "lines_to_next_cell": 2
   },
   "outputs": [],
   "source": [
    "#Comparaison des distributions\n",
    "plt.figure(figsize=(12, 6))\n",
    "sns.histplot(df_normalized[\"SectorRisk_Score\"], bins=30, kde=True, color=\"green\", label=\"New Risk Score\", alpha=0.6)\n",
    "plt.title(\"Comparaison des distributions des scores de risque\")\n",
    "plt.xlabel(\"Score de risque\")\n",
    "plt.ylabel(\"Fréquence\")\n",
    "plt.legend()\n",
    "plt.grid(True)\n",
    "plt.show()"
   ]
  },
  {
   "cell_type": "code",
   "execution_count": null,
   "id": "afb42d90",
   "metadata": {},
   "outputs": [],
   "source": [
    "df_normalized[\"SectorRisk_Score\"].describe()"
   ]
  },
  {
   "cell_type": "code",
   "execution_count": null,
   "id": "716b0482",
   "metadata": {
    "lines_to_next_cell": 0
   },
   "outputs": [],
   "source": [
    "df_normalized[[\"Corporation\", \"Investment Grade\", \"New_Risk_Score\", \"SectorRisk_Score\", \"Risk_level\"]].head(50)"
   ]
  },
  {
   "cell_type": "code",
   "execution_count": null,
   "id": "268f85b0",
   "metadata": {},
   "outputs": [],
   "source": [
    "#Conversion Rating Date en chaîne de caractères\n",
    "df[\"Rating Date2\"] = df[\"Rating Date\"].astype(str)\n",
    "df_normalized[\"Rating Date2\"] = df_normalized[\"Rating Date\"].astype(str)\n",
    "\n",
    "#Clé composite dans les deux DataFrames\n",
    "df[\"Composite_Key\"] = df[\"CIK\"].astype(str) + \"_\" + df[\"Corporation\"] + \"_\" + df[\"Rating Date2\"]\n",
    "df_normalized[\"Composite_Key\"] = df_normalized[\"CIK\"].astype(str) + \"_\" + df_normalized[\"Corporation\"] + \"_\" + df_normalized[\"Rating Date2\"]\n",
    "\n",
    "#Vérification de la clé composite\n",
    "print(df[\"Composite_Key\"].head())\n",
    "print(df_normalized[\"Composite_Key\"].head())"
   ]
  },
  {
   "cell_type": "code",
   "execution_count": null,
   "id": "f6441baf",
   "metadata": {},
   "outputs": [],
   "source": [
    "#Doublons de la clé composite dans df\n",
    "print(\"Doublons dans la clé composite (table non normalisée) :\", df[\"Composite_Key\"].duplicated().sum())\n",
    "\n",
    "#Doublons de la clé composite dans df_normalized\n",
    "print(\"Doublons dans la clé composite (table normalisée) :\", df_normalized[\"Composite_Key\"].duplicated().sum())"
   ]
  },
  {
   "cell_type": "code",
   "execution_count": null,
   "id": "4f305ed1",
   "metadata": {},
   "outputs": [],
   "source": [
    "#Vérifier les valeurs uniques dans les deux tables\n",
    "unique_keys_df = set(df[\"Composite_Key\"].unique())\n",
    "unique_keys_df_normalized = set(df_normalized[\"Composite_Key\"].unique())\n",
    "\n",
    "\n",
    "print(\"Clés présentes dans df mais pas dans df_normalized :\", unique_keys_df - unique_keys_df_normalized)\n",
    "print(\"Clés présentes dans df_normalized mais pas dans df :\", unique_keys_df_normalized - unique_keys_df)"
   ]
  },
  {
   "cell_type": "code",
   "execution_count": null,
   "id": "6187d8a9",
   "metadata": {
    "lines_to_next_cell": 0
   },
   "outputs": [],
   "source": [
    "#EXPORT DES DONNEES"
   ]
  },
  {
   "cell_type": "code",
   "execution_count": null,
   "id": "b9914a2d",
   "metadata": {},
   "outputs": [],
   "source": [
    "print(df.columns)\n",
    "print(df_normalized.columns)"
   ]
  },
  {
   "cell_type": "code",
   "execution_count": null,
   "id": "d2281bcc",
   "metadata": {},
   "outputs": [],
   "source": [
    "print(df.info())\n",
    "print(df_normalized.info())"
   ]
  },
  {
   "cell_type": "code",
   "execution_count": null,
   "id": "51fecd33",
   "metadata": {},
   "outputs": [],
   "source": [
    "#Sélection des colonnes à exporter\n",
    "export_colonnes1 = [\"CIK\", \"Corporation\", \"SIC Code\", \"Sector\", \"SubSector\", \"Industry\", \n",
    "                   \"Rating Agency\", \"Rating\", \"Rating Date\", \"Rating_Score\",\"Investment Grade\", \n",
    "                   \"Current Ratio\", \"Debt/Equity Ratio\", \"Net Profit Margin\", \"ROE - Return On Equity\", \n",
    "                   \"Current Ratio_Sector_Median\", \"Debt/Equity Ratio_Sector_Median\",\n",
    "                   \"Net Profit Margin_Sector_Median\",\"ROE - Return On Equity_Sector_Median\",\n",
    "                   \"Risk_Score\", \"Risk_Category\", \"Composite_Key\"]\n",
    "\n",
    "export_colonnes2 = export_colonnes1 + [\"New_Risk_Score\", \"Sector_Risk_Score\", \"SectorRisk_Score\", \n",
    "                                       \"Risk_level\", \"Risk_Comparaison\", \"Performance_vs_Sector\", \"Risk_Comparaison1\"]\n",
    "\n",
    "#Export des données non normalisées\n",
    "df[export_colonnes1].to_excel(\"CorporateCredit_NonNormalized.xlsx\", index=False)\n",
    "\n",
    "#Export des données normalisées\n",
    "df_normalized[export_colonnes2].to_excel(\"CorporateCredit_Normalized.xlsx\", index=False)\n",
    "\n",
    "print(\"Export terminé : fichiers Excel générés.\")"
   ]
  }
 ],
 "metadata": {
  "jupytext": {
   "cell_metadata_filter": "title,-all",
   "main_language": "python",
   "notebook_metadata_filter": "-all"
  },
  "kernelspec": {
   "display_name": "Python 3 (ipykernel)",
   "language": "python",
   "name": "python3"
  },
  "language_info": {
   "codemirror_mode": {
    "name": "ipython",
    "version": 3
   },
   "file_extension": ".py",
   "mimetype": "text/x-python",
   "name": "python",
   "nbconvert_exporter": "python",
   "pygments_lexer": "ipython3",
   "version": "3.12.7"
  }
 },
 "nbformat": 4,
 "nbformat_minor": 5
}
